{
 "cells": [
  {
   "cell_type": "markdown",
   "metadata": {},
   "source": [
    "# Concentration dependent elastic constants\n",
    "\n",
    "Here we demonstrate the new `SQSElasticConstantsList` job, which gets elastic constants as a function of chemical composition.\n",
    "\n",
    "This job works by using special quasirandom structures (implemented by Dominik Gehringer and Jan Janssen) to create cells with the requested chemical composition from a base crystal structure. These are then evaluated for their elastic constants (implemented by Yuri Lysogorskiy). These are fully relaxed and the basic output is the chemical composition and full 6x6 elastic matrix. (More detailed output is available from the underlying `SQSElasticConstants` job stored in HDF5, but user-friendly bindings are not currently implemented.)\n",
    "\n",
    "These components were assembled together in a single job (implemented by Liam Huber) that takes a list of dictionaries giving the desired chemical compositions (e.g. `{'Al': 0.95, 'Mg': 0.04, '0': 0.01}` for 95% Aluminium 4% Magnesium and 1% vacancies) and three reference jobs: a `ref_ham` which says how the structures should be interpreted for forces and energies (e.g. a Lammps job with a particular potential) -- the structure of this job provides the base crystal upon which the chemical compositions are imposed -- and `ref_sqs` and `ref_elastic` which hold the input parameters for the SQS and elastic constant calculation components.\n",
    "\n",
    "The current implementation only facilitates modal run modes and is not heavily tested. The example below takes less than 30 minutes on a single core, so for the purposes of demonstration this is not a serious limitation."
   ]
  },
  {
   "cell_type": "code",
   "execution_count": 56,
   "metadata": {
    "ExecuteTime": {
     "end_time": "2020-10-05T07:58:05.296301Z",
     "start_time": "2020-10-05T07:58:00.839091Z"
    }
   },
   "outputs": [],
   "source": [
    "from pyiron_atomistics import Project\n",
    "import pyiron_gpl\n",
    "import pyiron_continuum\n",
    "import numpy as np\n",
    "import matplotlib.pyplot as plt\n",
    "import seaborn as sns\n",
    "import yaml"
   ]
  },
  {
   "cell_type": "code",
   "execution_count": 57,
   "metadata": {
    "ExecuteTime": {
     "end_time": "2020-10-05T07:58:05.340298Z",
     "start_time": "2020-10-05T07:58:05.299253Z"
    }
   },
   "outputs": [],
   "source": [
    "pr = Project('elastic_pipeline_5')\n",
    "# pr.remove_jobs_silently(recursive=True)"
   ]
  },
  {
   "cell_type": "markdown",
   "metadata": {},
   "source": [
    "## Run the calculation\n",
    "\n",
    "Our test system will be Al with dilute Mg (up to 2%). Here we define the reference jobs, give our desired compositions.\n",
    "\n",
    "Feedback on the most user-friendly way to take chemical composition input (while still being fully flexible in allowed compositions!) is welcome -- this code is still in development."
   ]
  },
  {
   "cell_type": "code",
   "execution_count": 58,
   "metadata": {},
   "outputs": [
    {
     "name": "stderr",
     "output_type": "stream",
     "text": [
      "/tmp/ipykernel_3025/3578036438.py:2: DeprecationWarning: pyiron_atomistics.project.create_ase_bulk is deprecated: Use create.structure.bulk instead.\n",
      "  lmp_mini.structure = pr.create_ase_bulk('Al', cubic=True).repeat(5)\n"
     ]
    },
    {
     "name": "stdout",
     "output_type": "stream",
     "text": [
      "The job lammps_mini was saved and received the ID: 977\n"
     ]
    }
   ],
   "source": [
    "lmp_mini = pr.create_job(pr.job_type.Lammps, 'lammps_mini')\n",
    "lmp_mini.structure = pr.create_ase_bulk('Al', cubic=True).repeat(5)\n",
    "lmp_mini.potential = 'AlLi-atomicrex'\n",
    "lmp_mini.calc_minimize(pressure=0.0)\n",
    "lmp_mini.run()"
   ]
  },
  {
   "cell_type": "code",
   "execution_count": 59,
   "metadata": {},
   "outputs": [
    {
     "name": "stdout",
     "output_type": "stream",
     "text": [
      "The job master_al was saved and received the ID: 978\n",
      "The job sqs_0_005 was saved and received the ID: 979\n"
     ]
    },
    {
     "name": "stderr",
     "output_type": "stream",
     "text": [
      "/home/menon/miniconda3/envs/pyiron-damask/lib/python3.11/site-packages/structuretoolkit/build/sqs.py:43: UserWarning: The current mole-fraction specification cannot be applied to 500 atoms, as it would lead to fractional occupation. Hence, I have changed it from \"{'Li': 0.005, 'Al': 0.995}\" -> \"{'Li': 0.004, 'Al': 0.996}\"\n",
      "  warnings.warn(\n"
     ]
    },
    {
     "name": "stdout",
     "output_type": "stream",
     "text": [
      "The job sqs_0_01 was saved and received the ID: 980\n",
      "The job sqs_0_015 was saved and received the ID: 981\n"
     ]
    },
    {
     "name": "stderr",
     "output_type": "stream",
     "text": [
      "/home/menon/miniconda3/envs/pyiron-damask/lib/python3.11/site-packages/structuretoolkit/build/sqs.py:43: UserWarning: The current mole-fraction specification cannot be applied to 500 atoms, as it would lead to fractional occupation. Hence, I have changed it from \"{'Li': 0.015, 'Al': 0.985}\" -> \"{'Li': 0.016, 'Al': 0.984}\"\n",
      "  warnings.warn(\n"
     ]
    },
    {
     "name": "stdout",
     "output_type": "stream",
     "text": [
      "The job sqs_0_02 was saved and received the ID: 982\n"
     ]
    }
   ],
   "source": [
    "sqs_job_al = pr.create_job(\n",
    "    job_type=pr.job_type.SQSJob, \n",
    "    job_name=\"sqs_job_al\"\n",
    ")\n",
    "sqs_job_al.structure = lmp_mini.get_structure()\n",
    "sqs_job_al.input['iterations'] = 1000\n",
    "master_al = sqs_job_al.create_job(\n",
    "    job_type=pr.job_type.SQSMaster, \n",
    "    job_name=\"master_al\"\n",
    ")\n",
    "\n",
    "master_al.input[\"fraction_lst\"] = [0.005, 0.01, 0.015, 0.02]\n",
    "master_al.input[\"species_one\"] = \"Li\"\n",
    "master_al.input[\"species_two\"] = \"Al\"\n",
    "master_al.run()"
   ]
  },
  {
   "cell_type": "code",
   "execution_count": 60,
   "metadata": {},
   "outputs": [],
   "source": [
    "concentration_lst = [0.0] + [0.005, 0.01, 0.015, 0.02]"
   ]
  },
  {
   "cell_type": "code",
   "execution_count": 61,
   "metadata": {},
   "outputs": [],
   "source": [
    "structure_lst = [lmp_mini.get_structure()] + master_al.list_of_structures"
   ]
  },
  {
   "cell_type": "code",
   "execution_count": 62,
   "metadata": {},
   "outputs": [
    {
     "data": {
      "text/plain": [
       "['Al500', 'Al498Li2', 'Al495Li5', 'Al492Li8', 'Al490Li10']"
      ]
     },
     "execution_count": 62,
     "metadata": {},
     "output_type": "execute_result"
    }
   ],
   "source": [
    "[s.get_chemical_formula() for s in structure_lst]"
   ]
  },
  {
   "cell_type": "code",
   "execution_count": 63,
   "metadata": {},
   "outputs": [
    {
     "name": "stdout",
     "output_type": "stream",
     "text": [
      "The job elastic_Al500 was saved and received the ID: 983\n",
      "The job elastic_Al500_lammps_tmp was saved and received the ID: 984\n"
     ]
    },
    {
     "name": "stderr",
     "output_type": "stream",
     "text": [
      "/home/menon/miniconda3/envs/pyiron-damask/lib/python3.11/site-packages/pyiron_atomistics/lammps/interactive.py:502: UserWarning: Warning: setting upper trangular matrix might slow down the calculation\n",
      "  warnings.warn(\n"
     ]
    },
    {
     "name": "stdout",
     "output_type": "stream",
     "text": [
      "The job elastic_Al498Li2 was saved and received the ID: 985\n",
      "The job elastic_Al498Li2_lammps_tmp was saved and received the ID: 986\n"
     ]
    },
    {
     "name": "stderr",
     "output_type": "stream",
     "text": [
      "/home/menon/miniconda3/envs/pyiron-damask/lib/python3.11/site-packages/pyiron_atomistics/lammps/interactive.py:502: UserWarning: Warning: setting upper trangular matrix might slow down the calculation\n",
      "  warnings.warn(\n"
     ]
    },
    {
     "name": "stdout",
     "output_type": "stream",
     "text": [
      "The job elastic_Al495Li5 was saved and received the ID: 987\n",
      "The job elastic_Al495Li5_lammps_tmp was saved and received the ID: 988\n"
     ]
    },
    {
     "name": "stderr",
     "output_type": "stream",
     "text": [
      "/home/menon/miniconda3/envs/pyiron-damask/lib/python3.11/site-packages/pyiron_atomistics/lammps/interactive.py:502: UserWarning: Warning: setting upper trangular matrix might slow down the calculation\n",
      "  warnings.warn(\n"
     ]
    },
    {
     "name": "stdout",
     "output_type": "stream",
     "text": [
      "The job elastic_Al492Li8 was saved and received the ID: 989\n",
      "The job elastic_Al492Li8_lammps_tmp was saved and received the ID: 990\n"
     ]
    },
    {
     "name": "stderr",
     "output_type": "stream",
     "text": [
      "/home/menon/miniconda3/envs/pyiron-damask/lib/python3.11/site-packages/pyiron_atomistics/lammps/interactive.py:502: UserWarning: Warning: setting upper trangular matrix might slow down the calculation\n",
      "  warnings.warn(\n"
     ]
    },
    {
     "name": "stdout",
     "output_type": "stream",
     "text": [
      "The job elastic_Al490Li10 was saved and received the ID: 991\n",
      "The job elastic_Al490Li10_lammps_tmp was saved and received the ID: 992\n"
     ]
    },
    {
     "name": "stderr",
     "output_type": "stream",
     "text": [
      "/home/menon/miniconda3/envs/pyiron-damask/lib/python3.11/site-packages/pyiron_atomistics/lammps/interactive.py:502: UserWarning: Warning: setting upper trangular matrix might slow down the calculation\n",
      "  warnings.warn(\n"
     ]
    }
   ],
   "source": [
    "for s in structure_lst:\n",
    "    lmp_template = pr.create.job.Lammps('lammps_tmp')\n",
    "    lmp_template.potential = 'AlLi-atomicrex'\n",
    "    lmp_template.server.run_mode.interactive = True\n",
    "    lmp_template.interactive_enforce_structure_reset = True\n",
    "    lmp_template.structure = s\n",
    "    elastic = lmp_template.create_job(pr.job_type.ElasticMatrixJob, 'elastic_' + s.get_chemical_formula())\n",
    "    elastic.input['num_of_points'] = 5\n",
    "    elastic.input['fit_order'] = 2\n",
    "    elastic.input['eps_range'] = 0.005\n",
    "    elastic.input['relax_atoms'] = True\n",
    "    elastic.input['sqrt_eta'] = True\n",
    "    elastic.run()"
   ]
  },
  {
   "cell_type": "markdown",
   "metadata": {},
   "source": [
    "## post-processing the data\n",
    "\n",
    "The output of the job is stored to HDF5. To verify this, and since the actual calculation may be done at a different time than the results are analyzed, we demonstrate this by loading the job.\n",
    "\n",
    "There is also a little bit of annoying post-processing to get it all formatted as nice numpy arrays. Some of this is reasonable (like the need to explicitly add 0% Mg to the first chemistry -- we wouldn't want to list *everything that's not there*!), some is \"not my fault\" (like the way the InputList class mangles our chemistry dictionary on saving it to HDF), and some needs nicer helper functions in the future (like the ability to explicity ask for \"C12\" and get it by that string)."
   ]
  },
  {
   "cell_type": "code",
   "execution_count": 64,
   "metadata": {},
   "outputs": [
    {
     "data": {
      "text/html": [
       "<div>\n",
       "<style scoped>\n",
       "    .dataframe tbody tr th:only-of-type {\n",
       "        vertical-align: middle;\n",
       "    }\n",
       "\n",
       "    .dataframe tbody tr th {\n",
       "        vertical-align: top;\n",
       "    }\n",
       "\n",
       "    .dataframe thead th {\n",
       "        text-align: right;\n",
       "    }\n",
       "</style>\n",
       "<table border=\"1\" class=\"dataframe\">\n",
       "  <thead>\n",
       "    <tr style=\"text-align: right;\">\n",
       "      <th></th>\n",
       "      <th>id</th>\n",
       "      <th>status</th>\n",
       "      <th>chemicalformula</th>\n",
       "      <th>job</th>\n",
       "      <th>subjob</th>\n",
       "      <th>projectpath</th>\n",
       "      <th>project</th>\n",
       "      <th>timestart</th>\n",
       "      <th>timestop</th>\n",
       "      <th>totalcputime</th>\n",
       "      <th>computer</th>\n",
       "      <th>hamilton</th>\n",
       "      <th>hamversion</th>\n",
       "      <th>parentid</th>\n",
       "      <th>masterid</th>\n",
       "    </tr>\n",
       "  </thead>\n",
       "  <tbody>\n",
       "    <tr>\n",
       "      <th>0</th>\n",
       "      <td>977</td>\n",
       "      <td>finished</td>\n",
       "      <td>Al500</td>\n",
       "      <td>lammps_mini</td>\n",
       "      <td>/lammps_mini</td>\n",
       "      <td>None</td>\n",
       "      <td>/mnt/c/Users/menon/Documents/winrepos/projects-pyiron/pyiron-workflow-damask/elastic_pipeline_5/</td>\n",
       "      <td>2023-09-05 21:36:02.665157</td>\n",
       "      <td>2023-09-05 21:36:03.384739</td>\n",
       "      <td>0.0</td>\n",
       "      <td>pyiron@cmleo26#1</td>\n",
       "      <td>Lammps</td>\n",
       "      <td>0.1</td>\n",
       "      <td>None</td>\n",
       "      <td>NaN</td>\n",
       "    </tr>\n",
       "    <tr>\n",
       "      <th>1</th>\n",
       "      <td>978</td>\n",
       "      <td>finished</td>\n",
       "      <td>Al500</td>\n",
       "      <td>master_al</td>\n",
       "      <td>/master_al</td>\n",
       "      <td>None</td>\n",
       "      <td>/mnt/c/Users/menon/Documents/winrepos/projects-pyiron/pyiron-workflow-damask/elastic_pipeline_5/</td>\n",
       "      <td>2023-09-05 21:36:10.666126</td>\n",
       "      <td>2023-09-05 21:36:17.305186</td>\n",
       "      <td>6.0</td>\n",
       "      <td>pyiron@cmleo26#1#4/4</td>\n",
       "      <td>SQSMaster</td>\n",
       "      <td>0.0.1</td>\n",
       "      <td>None</td>\n",
       "      <td>NaN</td>\n",
       "    </tr>\n",
       "    <tr>\n",
       "      <th>2</th>\n",
       "      <td>979</td>\n",
       "      <td>finished</td>\n",
       "      <td>Al498Li2</td>\n",
       "      <td>sqs_0_005</td>\n",
       "      <td>/sqs_0_005</td>\n",
       "      <td>None</td>\n",
       "      <td>/mnt/c/Users/menon/Documents/winrepos/projects-pyiron/pyiron-workflow-damask/elastic_pipeline_5/master_al_hdf5/</td>\n",
       "      <td>2023-09-05 21:36:11.358349</td>\n",
       "      <td>2023-09-05 21:36:12.420125</td>\n",
       "      <td>1.0</td>\n",
       "      <td>pyiron@cmleo26#1</td>\n",
       "      <td>SQSJob</td>\n",
       "      <td>0.1</td>\n",
       "      <td>None</td>\n",
       "      <td>978.0</td>\n",
       "    </tr>\n",
       "    <tr>\n",
       "      <th>3</th>\n",
       "      <td>980</td>\n",
       "      <td>finished</td>\n",
       "      <td>Al495Li5</td>\n",
       "      <td>sqs_0_01</td>\n",
       "      <td>/sqs_0_01</td>\n",
       "      <td>None</td>\n",
       "      <td>/mnt/c/Users/menon/Documents/winrepos/projects-pyiron/pyiron-workflow-damask/elastic_pipeline_5/master_al_hdf5/</td>\n",
       "      <td>2023-09-05 21:36:13.077267</td>\n",
       "      <td>2023-09-05 21:36:14.056435</td>\n",
       "      <td>0.0</td>\n",
       "      <td>pyiron@cmleo26#1</td>\n",
       "      <td>SQSJob</td>\n",
       "      <td>0.1</td>\n",
       "      <td>None</td>\n",
       "      <td>978.0</td>\n",
       "    </tr>\n",
       "    <tr>\n",
       "      <th>4</th>\n",
       "      <td>981</td>\n",
       "      <td>finished</td>\n",
       "      <td>Al492Li8</td>\n",
       "      <td>sqs_0_015</td>\n",
       "      <td>/sqs_0_015</td>\n",
       "      <td>None</td>\n",
       "      <td>/mnt/c/Users/menon/Documents/winrepos/projects-pyiron/pyiron-workflow-damask/elastic_pipeline_5/master_al_hdf5/</td>\n",
       "      <td>2023-09-05 21:36:14.679564</td>\n",
       "      <td>2023-09-05 21:36:15.672337</td>\n",
       "      <td>0.0</td>\n",
       "      <td>pyiron@cmleo26#1</td>\n",
       "      <td>SQSJob</td>\n",
       "      <td>0.1</td>\n",
       "      <td>None</td>\n",
       "      <td>978.0</td>\n",
       "    </tr>\n",
       "    <tr>\n",
       "      <th>5</th>\n",
       "      <td>982</td>\n",
       "      <td>finished</td>\n",
       "      <td>Al490Li10</td>\n",
       "      <td>sqs_0_02</td>\n",
       "      <td>/sqs_0_02</td>\n",
       "      <td>None</td>\n",
       "      <td>/mnt/c/Users/menon/Documents/winrepos/projects-pyiron/pyiron-workflow-damask/elastic_pipeline_5/master_al_hdf5/</td>\n",
       "      <td>2023-09-05 21:36:16.305181</td>\n",
       "      <td>2023-09-05 21:36:17.297217</td>\n",
       "      <td>0.0</td>\n",
       "      <td>pyiron@cmleo26#1</td>\n",
       "      <td>SQSJob</td>\n",
       "      <td>0.1</td>\n",
       "      <td>None</td>\n",
       "      <td>978.0</td>\n",
       "    </tr>\n",
       "    <tr>\n",
       "      <th>6</th>\n",
       "      <td>983</td>\n",
       "      <td>finished</td>\n",
       "      <td>Al500</td>\n",
       "      <td>elastic_Al500</td>\n",
       "      <td>/elastic_Al500</td>\n",
       "      <td>None</td>\n",
       "      <td>/mnt/c/Users/menon/Documents/winrepos/projects-pyiron/pyiron-workflow-damask/elastic_pipeline_5/</td>\n",
       "      <td>2023-09-05 21:36:49.250569</td>\n",
       "      <td>2023-09-05 21:36:53.091974</td>\n",
       "      <td>3.0</td>\n",
       "      <td>pyiron@cmleo26#1#0</td>\n",
       "      <td>ElasticMatrixJob</td>\n",
       "      <td>0.0.1</td>\n",
       "      <td>None</td>\n",
       "      <td>NaN</td>\n",
       "    </tr>\n",
       "    <tr>\n",
       "      <th>7</th>\n",
       "      <td>984</td>\n",
       "      <td>finished</td>\n",
       "      <td>Al500</td>\n",
       "      <td>elastic_Al500_lammps_tmp</td>\n",
       "      <td>/elastic_Al500_lammps_tmp</td>\n",
       "      <td>None</td>\n",
       "      <td>/mnt/c/Users/menon/Documents/winrepos/projects-pyiron/pyiron-workflow-damask/elastic_pipeline_5/elastic_Al500_hdf5/</td>\n",
       "      <td>2023-09-05 21:36:50.202874</td>\n",
       "      <td>2023-09-05 21:36:52.110120</td>\n",
       "      <td>1.0</td>\n",
       "      <td>pyiron@cmleo26#1</td>\n",
       "      <td>Lammps</td>\n",
       "      <td>0.1</td>\n",
       "      <td>None</td>\n",
       "      <td>983.0</td>\n",
       "    </tr>\n",
       "    <tr>\n",
       "      <th>8</th>\n",
       "      <td>985</td>\n",
       "      <td>finished</td>\n",
       "      <td>Al498Li2</td>\n",
       "      <td>elastic_Al498Li2</td>\n",
       "      <td>/elastic_Al498Li2</td>\n",
       "      <td>None</td>\n",
       "      <td>/mnt/c/Users/menon/Documents/winrepos/projects-pyiron/pyiron-workflow-damask/elastic_pipeline_5/</td>\n",
       "      <td>2023-09-05 21:36:53.876232</td>\n",
       "      <td>2023-09-05 21:37:00.125770</td>\n",
       "      <td>6.0</td>\n",
       "      <td>pyiron@cmleo26#1#0</td>\n",
       "      <td>ElasticMatrixJob</td>\n",
       "      <td>0.0.1</td>\n",
       "      <td>None</td>\n",
       "      <td>NaN</td>\n",
       "    </tr>\n",
       "    <tr>\n",
       "      <th>9</th>\n",
       "      <td>986</td>\n",
       "      <td>finished</td>\n",
       "      <td>Al498Li2</td>\n",
       "      <td>elastic_Al498Li2_lammps_tmp</td>\n",
       "      <td>/elastic_Al498Li2_lammps_tmp</td>\n",
       "      <td>None</td>\n",
       "      <td>/mnt/c/Users/menon/Documents/winrepos/projects-pyiron/pyiron-workflow-damask/elastic_pipeline_5/elastic_Al498Li2_hdf5/</td>\n",
       "      <td>2023-09-05 21:36:54.483007</td>\n",
       "      <td>2023-09-05 21:36:59.202763</td>\n",
       "      <td>4.0</td>\n",
       "      <td>pyiron@cmleo26#1</td>\n",
       "      <td>Lammps</td>\n",
       "      <td>0.1</td>\n",
       "      <td>None</td>\n",
       "      <td>985.0</td>\n",
       "    </tr>\n",
       "    <tr>\n",
       "      <th>10</th>\n",
       "      <td>987</td>\n",
       "      <td>finished</td>\n",
       "      <td>Al495Li5</td>\n",
       "      <td>elastic_Al495Li5</td>\n",
       "      <td>/elastic_Al495Li5</td>\n",
       "      <td>None</td>\n",
       "      <td>/mnt/c/Users/menon/Documents/winrepos/projects-pyiron/pyiron-workflow-damask/elastic_pipeline_5/</td>\n",
       "      <td>2023-09-05 21:37:01.010124</td>\n",
       "      <td>2023-09-05 21:37:12.559856</td>\n",
       "      <td>11.0</td>\n",
       "      <td>pyiron@cmleo26#1#0</td>\n",
       "      <td>ElasticMatrixJob</td>\n",
       "      <td>0.0.1</td>\n",
       "      <td>None</td>\n",
       "      <td>NaN</td>\n",
       "    </tr>\n",
       "    <tr>\n",
       "      <th>11</th>\n",
       "      <td>988</td>\n",
       "      <td>finished</td>\n",
       "      <td>Al495Li5</td>\n",
       "      <td>elastic_Al495Li5_lammps_tmp</td>\n",
       "      <td>/elastic_Al495Li5_lammps_tmp</td>\n",
       "      <td>None</td>\n",
       "      <td>/mnt/c/Users/menon/Documents/winrepos/projects-pyiron/pyiron-workflow-damask/elastic_pipeline_5/elastic_Al495Li5_hdf5/</td>\n",
       "      <td>2023-09-05 21:37:01.608191</td>\n",
       "      <td>2023-09-05 21:37:11.653338</td>\n",
       "      <td>10.0</td>\n",
       "      <td>pyiron@cmleo26#1</td>\n",
       "      <td>Lammps</td>\n",
       "      <td>0.1</td>\n",
       "      <td>None</td>\n",
       "      <td>987.0</td>\n",
       "    </tr>\n",
       "    <tr>\n",
       "      <th>12</th>\n",
       "      <td>989</td>\n",
       "      <td>finished</td>\n",
       "      <td>Al492Li8</td>\n",
       "      <td>elastic_Al492Li8</td>\n",
       "      <td>/elastic_Al492Li8</td>\n",
       "      <td>None</td>\n",
       "      <td>/mnt/c/Users/menon/Documents/winrepos/projects-pyiron/pyiron-workflow-damask/elastic_pipeline_5/</td>\n",
       "      <td>2023-09-05 21:37:13.362682</td>\n",
       "      <td>2023-09-05 21:37:25.130855</td>\n",
       "      <td>11.0</td>\n",
       "      <td>pyiron@cmleo26#1#0</td>\n",
       "      <td>ElasticMatrixJob</td>\n",
       "      <td>0.0.1</td>\n",
       "      <td>None</td>\n",
       "      <td>NaN</td>\n",
       "    </tr>\n",
       "    <tr>\n",
       "      <th>13</th>\n",
       "      <td>990</td>\n",
       "      <td>finished</td>\n",
       "      <td>Al492Li8</td>\n",
       "      <td>elastic_Al492Li8_lammps_tmp</td>\n",
       "      <td>/elastic_Al492Li8_lammps_tmp</td>\n",
       "      <td>None</td>\n",
       "      <td>/mnt/c/Users/menon/Documents/winrepos/projects-pyiron/pyiron-workflow-damask/elastic_pipeline_5/elastic_Al492Li8_hdf5/</td>\n",
       "      <td>2023-09-05 21:37:13.936983</td>\n",
       "      <td>2023-09-05 21:37:24.192674</td>\n",
       "      <td>10.0</td>\n",
       "      <td>pyiron@cmleo26#1</td>\n",
       "      <td>Lammps</td>\n",
       "      <td>0.1</td>\n",
       "      <td>None</td>\n",
       "      <td>989.0</td>\n",
       "    </tr>\n",
       "    <tr>\n",
       "      <th>14</th>\n",
       "      <td>991</td>\n",
       "      <td>finished</td>\n",
       "      <td>Al490Li10</td>\n",
       "      <td>elastic_Al490Li10</td>\n",
       "      <td>/elastic_Al490Li10</td>\n",
       "      <td>None</td>\n",
       "      <td>/mnt/c/Users/menon/Documents/winrepos/projects-pyiron/pyiron-workflow-damask/elastic_pipeline_5/</td>\n",
       "      <td>2023-09-05 21:37:25.919992</td>\n",
       "      <td>2023-09-05 21:37:38.053816</td>\n",
       "      <td>12.0</td>\n",
       "      <td>pyiron@cmleo26#1#0</td>\n",
       "      <td>ElasticMatrixJob</td>\n",
       "      <td>0.0.1</td>\n",
       "      <td>None</td>\n",
       "      <td>NaN</td>\n",
       "    </tr>\n",
       "    <tr>\n",
       "      <th>15</th>\n",
       "      <td>992</td>\n",
       "      <td>finished</td>\n",
       "      <td>Al490Li10</td>\n",
       "      <td>elastic_Al490Li10_lammps_tmp</td>\n",
       "      <td>/elastic_Al490Li10_lammps_tmp</td>\n",
       "      <td>None</td>\n",
       "      <td>/mnt/c/Users/menon/Documents/winrepos/projects-pyiron/pyiron-workflow-damask/elastic_pipeline_5/elastic_Al490Li10_hdf5/</td>\n",
       "      <td>2023-09-05 21:37:26.517259</td>\n",
       "      <td>2023-09-05 21:37:37.127739</td>\n",
       "      <td>10.0</td>\n",
       "      <td>pyiron@cmleo26#1</td>\n",
       "      <td>Lammps</td>\n",
       "      <td>0.1</td>\n",
       "      <td>None</td>\n",
       "      <td>991.0</td>\n",
       "    </tr>\n",
       "  </tbody>\n",
       "</table>\n",
       "</div>"
      ],
      "text/plain": [
       "     id    status chemicalformula                           job  \\\n",
       "0   977  finished           Al500                   lammps_mini   \n",
       "1   978  finished           Al500                     master_al   \n",
       "2   979  finished        Al498Li2                     sqs_0_005   \n",
       "3   980  finished        Al495Li5                      sqs_0_01   \n",
       "4   981  finished        Al492Li8                     sqs_0_015   \n",
       "5   982  finished       Al490Li10                      sqs_0_02   \n",
       "6   983  finished           Al500                 elastic_Al500   \n",
       "7   984  finished           Al500      elastic_Al500_lammps_tmp   \n",
       "8   985  finished        Al498Li2              elastic_Al498Li2   \n",
       "9   986  finished        Al498Li2   elastic_Al498Li2_lammps_tmp   \n",
       "10  987  finished        Al495Li5              elastic_Al495Li5   \n",
       "11  988  finished        Al495Li5   elastic_Al495Li5_lammps_tmp   \n",
       "12  989  finished        Al492Li8              elastic_Al492Li8   \n",
       "13  990  finished        Al492Li8   elastic_Al492Li8_lammps_tmp   \n",
       "14  991  finished       Al490Li10             elastic_Al490Li10   \n",
       "15  992  finished       Al490Li10  elastic_Al490Li10_lammps_tmp   \n",
       "\n",
       "                           subjob projectpath  \\\n",
       "0                    /lammps_mini        None   \n",
       "1                      /master_al        None   \n",
       "2                      /sqs_0_005        None   \n",
       "3                       /sqs_0_01        None   \n",
       "4                      /sqs_0_015        None   \n",
       "5                       /sqs_0_02        None   \n",
       "6                  /elastic_Al500        None   \n",
       "7       /elastic_Al500_lammps_tmp        None   \n",
       "8               /elastic_Al498Li2        None   \n",
       "9    /elastic_Al498Li2_lammps_tmp        None   \n",
       "10              /elastic_Al495Li5        None   \n",
       "11   /elastic_Al495Li5_lammps_tmp        None   \n",
       "12              /elastic_Al492Li8        None   \n",
       "13   /elastic_Al492Li8_lammps_tmp        None   \n",
       "14             /elastic_Al490Li10        None   \n",
       "15  /elastic_Al490Li10_lammps_tmp        None   \n",
       "\n",
       "                                                                                                                    project  \\\n",
       "0                          /mnt/c/Users/menon/Documents/winrepos/projects-pyiron/pyiron-workflow-damask/elastic_pipeline_5/   \n",
       "1                          /mnt/c/Users/menon/Documents/winrepos/projects-pyiron/pyiron-workflow-damask/elastic_pipeline_5/   \n",
       "2           /mnt/c/Users/menon/Documents/winrepos/projects-pyiron/pyiron-workflow-damask/elastic_pipeline_5/master_al_hdf5/   \n",
       "3           /mnt/c/Users/menon/Documents/winrepos/projects-pyiron/pyiron-workflow-damask/elastic_pipeline_5/master_al_hdf5/   \n",
       "4           /mnt/c/Users/menon/Documents/winrepos/projects-pyiron/pyiron-workflow-damask/elastic_pipeline_5/master_al_hdf5/   \n",
       "5           /mnt/c/Users/menon/Documents/winrepos/projects-pyiron/pyiron-workflow-damask/elastic_pipeline_5/master_al_hdf5/   \n",
       "6                          /mnt/c/Users/menon/Documents/winrepos/projects-pyiron/pyiron-workflow-damask/elastic_pipeline_5/   \n",
       "7       /mnt/c/Users/menon/Documents/winrepos/projects-pyiron/pyiron-workflow-damask/elastic_pipeline_5/elastic_Al500_hdf5/   \n",
       "8                          /mnt/c/Users/menon/Documents/winrepos/projects-pyiron/pyiron-workflow-damask/elastic_pipeline_5/   \n",
       "9    /mnt/c/Users/menon/Documents/winrepos/projects-pyiron/pyiron-workflow-damask/elastic_pipeline_5/elastic_Al498Li2_hdf5/   \n",
       "10                         /mnt/c/Users/menon/Documents/winrepos/projects-pyiron/pyiron-workflow-damask/elastic_pipeline_5/   \n",
       "11   /mnt/c/Users/menon/Documents/winrepos/projects-pyiron/pyiron-workflow-damask/elastic_pipeline_5/elastic_Al495Li5_hdf5/   \n",
       "12                         /mnt/c/Users/menon/Documents/winrepos/projects-pyiron/pyiron-workflow-damask/elastic_pipeline_5/   \n",
       "13   /mnt/c/Users/menon/Documents/winrepos/projects-pyiron/pyiron-workflow-damask/elastic_pipeline_5/elastic_Al492Li8_hdf5/   \n",
       "14                         /mnt/c/Users/menon/Documents/winrepos/projects-pyiron/pyiron-workflow-damask/elastic_pipeline_5/   \n",
       "15  /mnt/c/Users/menon/Documents/winrepos/projects-pyiron/pyiron-workflow-damask/elastic_pipeline_5/elastic_Al490Li10_hdf5/   \n",
       "\n",
       "                    timestart                   timestop  totalcputime  \\\n",
       "0  2023-09-05 21:36:02.665157 2023-09-05 21:36:03.384739           0.0   \n",
       "1  2023-09-05 21:36:10.666126 2023-09-05 21:36:17.305186           6.0   \n",
       "2  2023-09-05 21:36:11.358349 2023-09-05 21:36:12.420125           1.0   \n",
       "3  2023-09-05 21:36:13.077267 2023-09-05 21:36:14.056435           0.0   \n",
       "4  2023-09-05 21:36:14.679564 2023-09-05 21:36:15.672337           0.0   \n",
       "5  2023-09-05 21:36:16.305181 2023-09-05 21:36:17.297217           0.0   \n",
       "6  2023-09-05 21:36:49.250569 2023-09-05 21:36:53.091974           3.0   \n",
       "7  2023-09-05 21:36:50.202874 2023-09-05 21:36:52.110120           1.0   \n",
       "8  2023-09-05 21:36:53.876232 2023-09-05 21:37:00.125770           6.0   \n",
       "9  2023-09-05 21:36:54.483007 2023-09-05 21:36:59.202763           4.0   \n",
       "10 2023-09-05 21:37:01.010124 2023-09-05 21:37:12.559856          11.0   \n",
       "11 2023-09-05 21:37:01.608191 2023-09-05 21:37:11.653338          10.0   \n",
       "12 2023-09-05 21:37:13.362682 2023-09-05 21:37:25.130855          11.0   \n",
       "13 2023-09-05 21:37:13.936983 2023-09-05 21:37:24.192674          10.0   \n",
       "14 2023-09-05 21:37:25.919992 2023-09-05 21:37:38.053816          12.0   \n",
       "15 2023-09-05 21:37:26.517259 2023-09-05 21:37:37.127739          10.0   \n",
       "\n",
       "                computer          hamilton hamversion parentid  masterid  \n",
       "0       pyiron@cmleo26#1            Lammps        0.1     None       NaN  \n",
       "1   pyiron@cmleo26#1#4/4         SQSMaster      0.0.1     None       NaN  \n",
       "2       pyiron@cmleo26#1            SQSJob        0.1     None     978.0  \n",
       "3       pyiron@cmleo26#1            SQSJob        0.1     None     978.0  \n",
       "4       pyiron@cmleo26#1            SQSJob        0.1     None     978.0  \n",
       "5       pyiron@cmleo26#1            SQSJob        0.1     None     978.0  \n",
       "6     pyiron@cmleo26#1#0  ElasticMatrixJob      0.0.1     None       NaN  \n",
       "7       pyiron@cmleo26#1            Lammps        0.1     None     983.0  \n",
       "8     pyiron@cmleo26#1#0  ElasticMatrixJob      0.0.1     None       NaN  \n",
       "9       pyiron@cmleo26#1            Lammps        0.1     None     985.0  \n",
       "10    pyiron@cmleo26#1#0  ElasticMatrixJob      0.0.1     None       NaN  \n",
       "11      pyiron@cmleo26#1            Lammps        0.1     None     987.0  \n",
       "12    pyiron@cmleo26#1#0  ElasticMatrixJob      0.0.1     None       NaN  \n",
       "13      pyiron@cmleo26#1            Lammps        0.1     None     989.0  \n",
       "14    pyiron@cmleo26#1#0  ElasticMatrixJob      0.0.1     None       NaN  \n",
       "15      pyiron@cmleo26#1            Lammps        0.1     None     991.0  "
      ]
     },
     "execution_count": 64,
     "metadata": {},
     "output_type": "execute_result"
    }
   ],
   "source": [
    "pr.job_table()"
   ]
  },
  {
   "cell_type": "code",
   "execution_count": 65,
   "metadata": {},
   "outputs": [],
   "source": [
    "def filter_function(job): \n",
    "    return \"elastic_\" in job.job_name and \"lammps_tmp\" not in job.job_name"
   ]
  },
  {
   "cell_type": "code",
   "execution_count": 66,
   "metadata": {},
   "outputs": [],
   "source": [
    "def get_c11(job):\n",
    "    return job[\"output/elasticmatrix\"][\"C\"][0,0]\n",
    "\n",
    "def get_c12(job):\n",
    "    return job[\"output/elasticmatrix\"][\"C\"][0,1]\n",
    "\n",
    "def get_c44(job):\n",
    "    return job[\"output/elasticmatrix\"][\"C\"][3,3]"
   ]
  },
  {
   "cell_type": "code",
   "execution_count": 67,
   "metadata": {},
   "outputs": [],
   "source": [
    "table = pr.create_table()"
   ]
  },
  {
   "cell_type": "code",
   "execution_count": 68,
   "metadata": {},
   "outputs": [],
   "source": [
    "table.filter_function = filter_function\n",
    "table.add[\"C11\"] = get_c11\n",
    "table.add[\"C12\"] = get_c12\n",
    "table.add[\"C44\"] = get_c44"
   ]
  },
  {
   "cell_type": "code",
   "execution_count": 69,
   "metadata": {},
   "outputs": [
    {
     "name": "stdout",
     "output_type": "stream",
     "text": [
      "The job table was saved and received the ID: 993\n"
     ]
    },
    {
     "data": {
      "application/vnd.jupyter.widget-view+json": {
       "model_id": "5c9b2aaeea044320b5eff58c0b6bb0f9",
       "version_major": 2,
       "version_minor": 0
      },
      "text/plain": [
       "Loading and filtering jobs:   0%|          | 0/17 [00:00<?, ?it/s]"
      ]
     },
     "metadata": {},
     "output_type": "display_data"
    },
    {
     "data": {
      "application/vnd.jupyter.widget-view+json": {
       "model_id": "e5603fee74d64e6f9e14ce50ee18ed5f",
       "version_major": 2,
       "version_minor": 0
      },
      "text/plain": [
       "Processing jobs:   0%|          | 0/5 [00:00<?, ?it/s]"
      ]
     },
     "metadata": {},
     "output_type": "display_data"
    }
   ],
   "source": [
    "table.run()"
   ]
  },
  {
   "cell_type": "code",
   "execution_count": 70,
   "metadata": {},
   "outputs": [
    {
     "data": {
      "text/html": [
       "<div>\n",
       "<style scoped>\n",
       "    .dataframe tbody tr th:only-of-type {\n",
       "        vertical-align: middle;\n",
       "    }\n",
       "\n",
       "    .dataframe tbody tr th {\n",
       "        vertical-align: top;\n",
       "    }\n",
       "\n",
       "    .dataframe thead th {\n",
       "        text-align: right;\n",
       "    }\n",
       "</style>\n",
       "<table border=\"1\" class=\"dataframe\">\n",
       "  <thead>\n",
       "    <tr style=\"text-align: right;\">\n",
       "      <th></th>\n",
       "      <th>job_id</th>\n",
       "      <th>C11</th>\n",
       "      <th>C12</th>\n",
       "      <th>C44</th>\n",
       "    </tr>\n",
       "  </thead>\n",
       "  <tbody>\n",
       "    <tr>\n",
       "      <th>0</th>\n",
       "      <td>983</td>\n",
       "      <td>111.328444</td>\n",
       "      <td>62.085214</td>\n",
       "      <td>47.596717</td>\n",
       "    </tr>\n",
       "    <tr>\n",
       "      <th>1</th>\n",
       "      <td>985</td>\n",
       "      <td>112.539686</td>\n",
       "      <td>61.867094</td>\n",
       "      <td>47.204179</td>\n",
       "    </tr>\n",
       "    <tr>\n",
       "      <th>2</th>\n",
       "      <td>987</td>\n",
       "      <td>110.815273</td>\n",
       "      <td>61.702050</td>\n",
       "      <td>46.937037</td>\n",
       "    </tr>\n",
       "    <tr>\n",
       "      <th>3</th>\n",
       "      <td>989</td>\n",
       "      <td>110.296774</td>\n",
       "      <td>61.698306</td>\n",
       "      <td>46.655419</td>\n",
       "    </tr>\n",
       "    <tr>\n",
       "      <th>4</th>\n",
       "      <td>991</td>\n",
       "      <td>109.942585</td>\n",
       "      <td>61.718508</td>\n",
       "      <td>46.476683</td>\n",
       "    </tr>\n",
       "  </tbody>\n",
       "</table>\n",
       "</div>"
      ],
      "text/plain": [
       "   job_id         C11        C12        C44\n",
       "0     983  111.328444  62.085214  47.596717\n",
       "1     985  112.539686  61.867094  47.204179\n",
       "2     987  110.815273  61.702050  46.937037\n",
       "3     989  110.296774  61.698306  46.655419\n",
       "4     991  109.942585  61.718508  46.476683"
      ]
     },
     "execution_count": 70,
     "metadata": {},
     "output_type": "execute_result"
    }
   ],
   "source": [
    "df_data = table.get_dataframe()\n",
    "df_data"
   ]
  },
  {
   "cell_type": "markdown",
   "metadata": {},
   "source": [
    "## Analysis\n",
    "\n",
    "Finally, let's use numpy to make a polynomial fit of our elastic constants to alloying concentration and visualize the results.\n",
    "\n",
    "Note: pure-Al data lines up very nicely with the pure Al elastic constants [reported on the NIST website for this potential](https://www.ctcms.nist.gov/potentials/entry/2009--Mendelev-M-I-Asta-M-Rahman-M-J-Hoyt-J-J--Al-Mg/2009--Mendelev-M-I--Al-Mg--LAMMPS--ipr1.html). I don't have a good sense for exactly what <2% Mg should be doing, but at least there are no sharp changes. Sanity check passed."
   ]
  },
  {
   "cell_type": "code",
   "execution_count": 71,
   "metadata": {},
   "outputs": [],
   "source": [
    "concentrations = np.array(concentration_lst)"
   ]
  },
  {
   "cell_type": "code",
   "execution_count": 72,
   "metadata": {},
   "outputs": [],
   "source": [
    "C11_data = df_data[\"C11\"].values\n",
    "C12_data = df_data[\"C12\"].values\n",
    "C44_data = df_data[\"C44\"].values"
   ]
  },
  {
   "cell_type": "code",
   "execution_count": 73,
   "metadata": {
    "ExecuteTime": {
     "end_time": "2020-10-05T08:18:13.444764Z",
     "start_time": "2020-10-05T08:18:13.425319Z"
    }
   },
   "outputs": [],
   "source": [
    "fit_degree = 2\n",
    "C11_fit = np.polyfit(concentrations, C11_data, deg=fit_degree)\n",
    "C12_fit = np.polyfit(concentrations, C12_data, deg=fit_degree)\n",
    "C44_fit = np.polyfit(concentrations, C44_data, deg=fit_degree)\n",
    "c = np.linspace(concentrations.min(), concentrations.max(), 100)  # 'Continuous' concentration"
   ]
  },
  {
   "cell_type": "code",
   "execution_count": 74,
   "metadata": {
    "ExecuteTime": {
     "end_time": "2020-10-05T08:18:13.478125Z",
     "start_time": "2020-10-05T08:18:13.465417Z"
    }
   },
   "outputs": [
    {
     "name": "stdout",
     "output_type": "stream",
     "text": [
      "[-5499.8459933      9.70431475   111.71248627]\n",
      "[1822.69695836  -54.49795855   62.08580959]\n",
      "[1180.36893367  -79.38393256   47.59079101]\n"
     ]
    }
   ],
   "source": [
    "# p(x) = p[0] * x**deg + ... + p[deg]\n",
    "print(C11_fit)\n",
    "print(C12_fit)\n",
    "print(C44_fit)"
   ]
  },
  {
   "cell_type": "code",
   "execution_count": 75,
   "metadata": {
    "ExecuteTime": {
     "end_time": "2020-10-05T08:18:14.491958Z",
     "start_time": "2020-10-05T08:18:13.507439Z"
    }
   },
   "outputs": [
    {
     "data": {
      "image/png": "[encoded data removed]",
      "text/plain": [
       "<Figure size 640x480 with 1 Axes>"
      ]
     },
     "metadata": {},
     "output_type": "display_data"
    }
   ],
   "source": [
    "for color, data, fit, label in zip(\n",
    "    sns.color_palette(n_colors=3), \n",
    "    [C11_data, C12_data, C44_data], \n",
    "    [C11_fit, C12_fit, C44_fit],\n",
    "    ['C11', 'C12', 'C44']\n",
    "):\n",
    "    plt.scatter(concentrations, data, color=color)\n",
    "    plt.plot(c, np.polyval(fit, c), color=color, label=label)\n",
    "plt.xlabel('Li concentration')\n",
    "plt.ylabel('Elastic constant (GPa)')\n",
    "plt.legend()\n",
    "plt.show()"
   ]
  },
  {
   "cell_type": "markdown",
   "metadata": {},
   "source": [
    "# DAMASK Simulations\n",
    "The steps include, defining:\n",
    "- geometries\n",
    "- grains\n",
    "- loading\n",
    "- material properties based on the atomistically-evaluated \n",
    "- perfoming simulations"
   ]
  },
  {
   "cell_type": "code",
   "execution_count": 76,
   "metadata": {},
   "outputs": [],
   "source": [
    "from damask import Rotation"
   ]
  },
  {
   "cell_type": "code",
   "execution_count": 77,
   "metadata": {},
   "outputs": [
    {
     "data": {
      "text/plain": [
       "array([0.  , 0.01, 0.02])"
      ]
     },
     "execution_count": 77,
     "metadata": {},
     "output_type": "execute_result"
    }
   ],
   "source": [
    "concentrations[::2]"
   ]
  },
  {
   "cell_type": "code",
   "execution_count": 78,
   "metadata": {
    "scrolled": true
   },
   "outputs": [
    {
     "name": "stdout",
     "output_type": "stream",
     "text": [
      "The job damask_Li_0 was saved and received the ID: 994\n"
     ]
    },
    {
     "name": "stderr",
     "output_type": "stream",
     "text": [
      " ██████████████████████████████████████████████████ 100% ETA 0:00:00\n",
      " ██████████████████████████████████████████████████ 100% ETA 0:00:00\n",
      " ██████████████████████████████████████████████████ 100% ETA 0:00:00\n",
      " ██████████████████████████████████████████████████ 100% ETA 0:00:00\n",
      " ██████████████████████████████████████████████████ 100% ETA 0:00:00\n",
      " ██████████████████████████████████████████████████ 100% ETA 0:00:00\n",
      " ██████████████████████████████████████████████████ 100% ETA 0:00:00\n",
      " ██████████████████████████████████████████████████ 100% ETA 0:00:00\n",
      " ██████████████████████████████████████████████████ 100% ETA 0:00:00\n",
      " ██████████████████████████████████████████████████ 100% ETA 0:00:00\n",
      " ██████████████████████████████████████████████████ 100% ETA 0:00:00\n",
      " ██████████████████████████████████████████████████ 100% ETA 0:00:00\n"
     ]
    },
    {
     "name": "stdout",
     "output_type": "stream",
     "text": [
      "The job damask_Li_1 was saved and received the ID: 995\n"
     ]
    },
    {
     "name": "stderr",
     "output_type": "stream",
     "text": [
      " ██████████████████████████████████████████████████ 100% ETA 0:00:00\n",
      " ██████████████████████████████████████████████████ 100% ETA 0:00:00\n",
      " ██████████████████████████████████████████████████ 100% ETA 0:00:00\n",
      " ██████████████████████████████████████████████████ 100% ETA 0:00:00\n",
      " ██████████████████████████████████████████████████ 100% ETA 0:00:00\n",
      " ██████████████████████████████████████████████████ 100% ETA 0:00:00\n",
      " ██████████████████████████████████████████████████ 100% ETA 0:00:00\n",
      " ██████████████████████████████████████████████████ 100% ETA 0:00:00\n",
      " ██████████████████████████████████████████████████ 100% ETA 0:00:00\n",
      " ██████████████████████████████████████████████████ 100% ETA 0:00:00\n",
      " ██████████████████████████████████████████████████ 100% ETA 0:00:00\n",
      " ██████████████████████████████████████████████████ 100% ETA 0:00:00\n"
     ]
    },
    {
     "name": "stdout",
     "output_type": "stream",
     "text": [
      "The job damask_Li_2 was saved and received the ID: 996\n"
     ]
    },
    {
     "name": "stderr",
     "output_type": "stream",
     "text": [
      " ██████████████████████████████████████████████████ 100% ETA 0:00:00\n",
      " ██████████████████████████████████████████████████ 100% ETA 0:00:00\n",
      " ██████████████████████████████████████████████████ 100% ETA 0:00:00\n",
      " ██████████████████████████████████████████████████ 100% ETA 0:00:00\n",
      " ██████████████████████████████████████████████████ 100% ETA 0:00:00\n",
      " ██████████████████████████████████████████████████ 100% ETA 0:00:00\n",
      " ██████████████████████████████████████████████████ 100% ETA 0:00:00\n",
      " ██████████████████████████████████████████████████ 100% ETA 0:00:00\n",
      " ██████████████████████████████████████████████████ 100% ETA 0:00:00\n",
      " ██████████████████████████████████████████████████ 100% ETA 0:00:00\n",
      " ██████████████████████████████████████████████████ 100% ETA 0:00:00\n",
      " ██████████████████████████████████████████████████ 100% ETA 0:00:00\n"
     ]
    }
   ],
   "source": [
    "job_lst = []\n",
    "for i,c in enumerate(concentrations[::2]):\n",
    "    job = pr.create.job.DAMASK(\"damask_\" + 'Li_{}'.format(int(c*100)), delete_aborted_job=True, delete_existing_job=True)\n",
    "    elasticity = pr.continuum.damask.Elasticity(type= 'Hooke', C_11= float(np.polyval(C11_fit, c)),\n",
    "                                                C_12= float(np.polyval(C12_fit, c)), \n",
    "                                                C_44=float(np.polyval(C44_fit, c)))\n",
    "    phase = pr.continuum.damask.Phase(composition='Aluminum', lattice= 'cF',\n",
    "                             output_list=['F', 'P', 'F_e'],\n",
    "                             elasticity=elasticity,plasticity=None)\n",
    "    rotation = pr.continuum.damask.Rotation(Rotation.from_random, 1)\n",
    "    \n",
    "    homogenization = pr.continuum.damask.Homogenization(method='SX', \n",
    "                                                         parameters={'N_constituents': 1,\n",
    "                                                                     \"mechanical\": {\"type\": \"pass\"}})\n",
    "    \n",
    "    # now you can define your material.yaml configuration\n",
    "    material = pr.continuum.damask.Material([rotation],['Aluminum'], phase, homogenization)\n",
    "    \n",
    "    # now you can save your material to your job\n",
    "    job.material = material\n",
    "\n",
    "    grid = pr.continuum.damask.Grid.via_voronoi_tessellation(box_size=1., grid_dim=16, num_grains=1)\n",
    "    \n",
    "    # save the geometry information to your job\n",
    "    job.grid = grid\n",
    "\n",
    "    load_step =[{'mech_bc_dict':{'dot_F':[1e-3,0,0, 0,'x',0,  0,0,'x'],\n",
    "                                'P':['x','x','x', 'x',0,'x',  'x','x',0]},\n",
    "                'discretization':{'t': 50.,'N': 50},\n",
    "                'additional': {'f_out': 5}\n",
    "               }]\n",
    "    solver = job.list_solvers()[0] # choose the mechanis solver\n",
    "    job.loading = pr.continuum.damask.Loading(solver=solver, load_steps=load_step)\n",
    "    job.run()\n",
    "    job_lst.append(job)"
   ]
  },
  {
   "cell_type": "code",
   "execution_count": 79,
   "metadata": {},
   "outputs": [
    {
     "data": {
      "text/plain": [
       "Text(0.5, 1.0, 'Stress-Strain')"
      ]
     },
     "execution_count": 79,
     "metadata": {},
     "output_type": "execute_result"
    },
    {
     "data": {
      "image/png": "[encoded data removed]",
      "text/plain": [
       "<Figure size 640x480 with 1 Axes>"
      ]
     },
     "metadata": {},
     "output_type": "display_data"
    }
   ],
   "source": [
    "colors = ['r','g','b']\n",
    "#for color, strain, stress, c in zip(colors, strains, stresses, concentrations):\n",
    "plt.plot(job_lst[0].output.strain_von_Mises, job_lst[0].output.stress_von_Mises, 'r', linewidth=2, label = 'Mg={}%'.format(0*100))\n",
    "plt.plot(job_lst[1].output.strain_von_Mises, job_lst[1].output.stress_von_Mises, 'b', linewidth=2, label = 'Mg={}%'.format(0.01*100))\n",
    "plt.plot(job_lst[2].output.strain_von_Mises, job_lst[2].output.stress_von_Mises, 'g', linewidth=2, label = 'Mg={}%'.format(0.02*100))\n",
    "#plt.ylim(90, 95)\n",
    "plt.grid(True)\n",
    "plt.xlabel('$Strain$')\n",
    "plt.ylabel('Stress- MPa')\n",
    "plt.legend( loc='lower right')\n",
    "plt.title(\"Stress-Strain\")"
   ]
  }
 ],
 "metadata": {
  "kernelspec": {
   "display_name": "Python 3 (ipykernel)",
   "language": "python",
   "name": "python3"
  },
  "language_info": {
   "codemirror_mode": {
    "name": "ipython",
    "version": 3
   },
   "file_extension": ".py",
   "mimetype": "text/x-python",
   "name": "python",
   "nbconvert_exporter": "python",
   "pygments_lexer": "ipython3",
   "version": "3.11.5"
  },
  "toc": {
   "base_numbering": 1,
   "nav_menu": {},
   "number_sections": true,
   "sideBar": true,
   "skip_h1_title": false,
   "title_cell": "Table of Contents",
   "title_sidebar": "Contents",
   "toc_cell": false,
   "toc_position": {},
   "toc_section_display": true,
   "toc_window_display": false
  }
 },
 "nbformat": 4,
 "nbformat_minor": 4
}
