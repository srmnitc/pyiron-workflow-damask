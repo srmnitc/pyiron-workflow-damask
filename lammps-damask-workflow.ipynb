{
 "cells": [
  {
   "cell_type": "markdown",
   "metadata": {},
   "source": [
    "# Concentration dependent elastic constants\n",
    "\n",
    "Here we demonstrate the new `SQSElasticConstantsList` job, which gets elastic constants as a function of chemical composition.\n",
    "\n",
    "This job works by using special quasirandom structures (implemented by Dominik Gehringer and Jan Janssen) to create cells with the requested chemical composition from a base crystal structure. These are then evaluated for their elastic constants (implemented by Yuri Lysogorskiy). These are fully relaxed and the basic output is the chemical composition and full 6x6 elastic matrix. (More detailed output is available from the underlying `SQSElasticConstants` job stored in HDF5, but user-friendly bindings are not currently implemented.)\n",
    "\n",
    "These components were assembled together in a single job (implemented by Liam Huber) that takes a list of dictionaries giving the desired chemical compositions (e.g. `{'Al': 0.95, 'Mg': 0.04, '0': 0.01}` for 95% Aluminium 4% Magnesium and 1% vacancies) and three reference jobs: a `ref_ham` which says how the structures should be interpreted for forces and energies (e.g. a Lammps job with a particular potential) -- the structure of this job provides the base crystal upon which the chemical compositions are imposed -- and `ref_sqs` and `ref_elastic` which hold the input parameters for the SQS and elastic constant calculation components.\n",
    "\n",
    "The current implementation only facilitates modal run modes and is not heavily tested. The example below takes less than 30 minutes on a single core, so for the purposes of demonstration this is not a serious limitation."
   ]
  },
  {
   "cell_type": "code",
   "execution_count": 1,
   "metadata": {
    "ExecuteTime": {
     "end_time": "2020-10-05T07:58:05.296301Z",
     "start_time": "2020-10-05T07:58:00.839091Z"
    }
   },
   "outputs": [],
   "source": [
    "from pyiron_atomistics import Project\n",
    "import pyiron_gpl\n",
    "import pyiron_continuum\n",
    "import numpy as np\n",
    "import matplotlib.pyplot as plt\n",
    "import seaborn as sns\n",
    "import yaml"
   ]
  },
  {
   "cell_type": "code",
   "execution_count": 2,
   "metadata": {
    "ExecuteTime": {
     "end_time": "2020-10-05T07:58:05.340298Z",
     "start_time": "2020-10-05T07:58:05.299253Z"
    }
   },
   "outputs": [],
   "source": [
    "pr = Project('elastic_pipeline')\n",
    "# pr.remove_jobs_silently(recursive=True)"
   ]
  },
  {
   "cell_type": "markdown",
   "metadata": {},
   "source": [
    "## Run the calculation\n",
    "\n",
    "Our test system will be Al with dilute Mg (up to 2%). Here we define the reference jobs, give our desired compositions.\n",
    "\n",
    "Feedback on the most user-friendly way to take chemical composition input (while still being fully flexible in allowed compositions!) is welcome -- this code is still in development."
   ]
  },
  {
   "cell_type": "code",
   "execution_count": 3,
   "metadata": {},
   "outputs": [
    {
     "name": "stderr",
     "output_type": "stream",
     "text": [
      "/tmp/ipykernel_1600/3788128190.py:2: DeprecationWarning: pyiron_atomistics.project.create_ase_bulk is deprecated: Use create.structure.bulk instead.\n",
      "  lmp_mini.structure = pr.create_ase_bulk('Al', cubic=True).repeat(5)\n"
     ]
    },
    {
     "name": "stdout",
     "output_type": "stream",
     "text": [
      "The job lammps_mini was saved and received the ID: 998\n"
     ]
    }
   ],
   "source": [
    "lmp_mini = pr.create_job(pr.job_type.Lammps, 'lammps_mini')\n",
    "lmp_mini.structure = pr.create_ase_bulk('Al', cubic=True).repeat(5)\n",
    "lmp_mini.potential = '2009--Mendelev-M-I--Al-Mg--LAMMPS--ipr1'\n",
    "lmp_mini.calc_minimize(pressure=0.0)\n",
    "lmp_mini.run()"
   ]
  },
  {
   "cell_type": "code",
   "execution_count": 4,
   "metadata": {},
   "outputs": [
    {
     "data": {
      "text/html": [
       "<pre style=\"white-space:pre;overflow-x:auto;line-height:normal;font-family:Menlo,'DejaVu Sans Mono',consolas,'Courier New',monospace\"></pre>\n"
      ],
      "text/plain": []
     },
     "metadata": {},
     "output_type": "display_data"
    },
    {
     "data": {
      "text/html": [
       "<pre style=\"white-space:pre;overflow-x:auto;line-height:normal;font-family:Menlo,'DejaVu Sans Mono',consolas,'Courier New',monospace\"></pre>\n"
      ],
      "text/plain": []
     },
     "metadata": {},
     "output_type": "display_data"
    },
    {
     "name": "stdout",
     "output_type": "stream",
     "text": [
      "The job master_al was saved and received the ID: 999\n",
      "The job sqs_0_005 was saved and received the ID: 1000\n"
     ]
    },
    {
     "name": "stderr",
     "output_type": "stream",
     "text": [
      "/home/menon/miniconda3/envs/pyiron-damask/lib/python3.11/site-packages/structuretoolkit/build/sqs.py:43: UserWarning: The current mole-fraction specification cannot be applied to 500 atoms, as it would lead to fractional occupation. Hence, I have changed it from \"{'Mg': 0.005, 'Al': 0.995}\" -> \"{'Mg': 0.004, 'Al': 0.996}\"\n",
      "  warnings.warn(\n"
     ]
    },
    {
     "name": "stdout",
     "output_type": "stream",
     "text": [
      "The job sqs_0_01 was saved and received the ID: 1001\n",
      "The job sqs_0_015 was saved and received the ID: 1002\n"
     ]
    },
    {
     "name": "stderr",
     "output_type": "stream",
     "text": [
      "/home/menon/miniconda3/envs/pyiron-damask/lib/python3.11/site-packages/structuretoolkit/build/sqs.py:43: UserWarning: The current mole-fraction specification cannot be applied to 500 atoms, as it would lead to fractional occupation. Hence, I have changed it from \"{'Mg': 0.015, 'Al': 0.985}\" -> \"{'Mg': 0.016, 'Al': 0.984}\"\n",
      "  warnings.warn(\n"
     ]
    },
    {
     "name": "stdout",
     "output_type": "stream",
     "text": [
      "The job sqs_0_02 was saved and received the ID: 1003\n"
     ]
    }
   ],
   "source": [
    "sqs_job_al = pr.create_job(\n",
    "    job_type=pr.job_type.SQSJob, \n",
    "    job_name=\"sqs_job_al\"\n",
    ")\n",
    "sqs_job_al.structure = lmp_mini.get_structure()\n",
    "sqs_job_al.input['iterations'] = 1000\n",
    "master_al = sqs_job_al.create_job(\n",
    "    job_type=pr.job_type.SQSMaster, \n",
    "    job_name=\"master_al\"\n",
    ")\n",
    "\n",
    "master_al.input[\"fraction_lst\"] = [0.005, 0.01, 0.015, 0.02]\n",
    "master_al.input[\"species_one\"] = \"Mg\"\n",
    "master_al.input[\"species_two\"] = \"Al\"\n",
    "master_al.run()"
   ]
  },
  {
   "cell_type": "code",
   "execution_count": 5,
   "metadata": {},
   "outputs": [],
   "source": [
    "concentration_lst = [0.0] + [0.005, 0.01, 0.015, 0.02]"
   ]
  },
  {
   "cell_type": "code",
   "execution_count": 6,
   "metadata": {},
   "outputs": [],
   "source": [
    "structure_lst = [lmp_mini.get_structure()] + master_al.list_of_structures"
   ]
  },
  {
   "cell_type": "code",
   "execution_count": 7,
   "metadata": {},
   "outputs": [
    {
     "data": {
      "text/plain": [
       "['Al500', 'Al498Mg2', 'Al495Mg5', 'Al492Mg8', 'Al490Mg10']"
      ]
     },
     "execution_count": 7,
     "metadata": {},
     "output_type": "execute_result"
    }
   ],
   "source": [
    "[s.get_chemical_formula() for s in structure_lst]"
   ]
  },
  {
   "cell_type": "code",
   "execution_count": 8,
   "metadata": {},
   "outputs": [
    {
     "name": "stdout",
     "output_type": "stream",
     "text": [
      "The job elastic_Al500 was saved and received the ID: 1004\n",
      "The job elastic_Al500_lammps_tmp was saved and received the ID: 1005\n"
     ]
    },
    {
     "name": "stderr",
     "output_type": "stream",
     "text": [
      "/home/menon/miniconda3/envs/pyiron-damask/lib/python3.11/site-packages/pyiron_atomistics/lammps/interactive.py:502: UserWarning: Warning: setting upper trangular matrix might slow down the calculation\n",
      "  warnings.warn(\n"
     ]
    },
    {
     "name": "stdout",
     "output_type": "stream",
     "text": [
      "The job elastic_Al498Mg2 was saved and received the ID: 1006\n",
      "The job elastic_Al498Mg2_lammps_tmp was saved and received the ID: 1007\n"
     ]
    },
    {
     "name": "stderr",
     "output_type": "stream",
     "text": [
      "/home/menon/miniconda3/envs/pyiron-damask/lib/python3.11/site-packages/pyiron_atomistics/lammps/interactive.py:502: UserWarning: Warning: setting upper trangular matrix might slow down the calculation\n",
      "  warnings.warn(\n"
     ]
    },
    {
     "name": "stdout",
     "output_type": "stream",
     "text": [
      "The job elastic_Al495Mg5 was saved and received the ID: 1008\n",
      "The job elastic_Al495Mg5_lammps_tmp was saved and received the ID: 1009\n"
     ]
    },
    {
     "name": "stderr",
     "output_type": "stream",
     "text": [
      "/home/menon/miniconda3/envs/pyiron-damask/lib/python3.11/site-packages/pyiron_atomistics/lammps/interactive.py:502: UserWarning: Warning: setting upper trangular matrix might slow down the calculation\n",
      "  warnings.warn(\n"
     ]
    },
    {
     "name": "stdout",
     "output_type": "stream",
     "text": [
      "The job elastic_Al492Mg8 was saved and received the ID: 1010\n",
      "The job elastic_Al492Mg8_lammps_tmp was saved and received the ID: 1011\n"
     ]
    },
    {
     "name": "stderr",
     "output_type": "stream",
     "text": [
      "/home/menon/miniconda3/envs/pyiron-damask/lib/python3.11/site-packages/pyiron_atomistics/lammps/interactive.py:502: UserWarning: Warning: setting upper trangular matrix might slow down the calculation\n",
      "  warnings.warn(\n"
     ]
    },
    {
     "name": "stdout",
     "output_type": "stream",
     "text": [
      "The job elastic_Al490Mg10 was saved and received the ID: 1012\n",
      "The job elastic_Al490Mg10_lammps_tmp was saved and received the ID: 1013\n"
     ]
    },
    {
     "name": "stderr",
     "output_type": "stream",
     "text": [
      "/home/menon/miniconda3/envs/pyiron-damask/lib/python3.11/site-packages/pyiron_atomistics/lammps/interactive.py:502: UserWarning: Warning: setting upper trangular matrix might slow down the calculation\n",
      "  warnings.warn(\n"
     ]
    }
   ],
   "source": [
    "for s in structure_lst:\n",
    "    lmp_template = pr.create.job.Lammps('lammps_tmp')\n",
    "    lmp_template.potential = '2009--Mendelev-M-I--Al-Mg--LAMMPS--ipr1'\n",
    "    lmp_template.server.run_mode.interactive = True\n",
    "    lmp_template.interactive_enforce_structure_reset = True\n",
    "    lmp_template.structure = s\n",
    "    elastic = lmp_template.create_job(pr.job_type.ElasticMatrixJob, 'elastic_' + s.get_chemical_formula())\n",
    "    elastic.input['num_of_points'] = 5\n",
    "    elastic.input['fit_order'] = 2\n",
    "    elastic.input['eps_range'] = 0.005\n",
    "    elastic.input['relax_atoms'] = True\n",
    "    elastic.input['sqrt_eta'] = True\n",
    "    elastic.run()"
   ]
  },
  {
   "cell_type": "markdown",
   "metadata": {},
   "source": [
    "## post-processing the data\n",
    "\n",
    "The output of the job is stored to HDF5. To verify this, and since the actual calculation may be done at a different time than the results are analyzed, we demonstrate this by loading the job.\n",
    "\n",
    "There is also a little bit of annoying post-processing to get it all formatted as nice numpy arrays. Some of this is reasonable (like the need to explicitly add 0% Mg to the first chemistry -- we wouldn't want to list *everything that's not there*!), some is \"not my fault\" (like the way the InputList class mangles our chemistry dictionary on saving it to HDF), and some needs nicer helper functions in the future (like the ability to explicity ask for \"C12\" and get it by that string)."
   ]
  },
  {
   "cell_type": "code",
   "execution_count": 9,
   "metadata": {},
   "outputs": [
    {
     "data": {
      "text/html": [
       "<div>\n",
       "<style scoped>\n",
       "    .dataframe tbody tr th:only-of-type {\n",
       "        vertical-align: middle;\n",
       "    }\n",
       "\n",
       "    .dataframe tbody tr th {\n",
       "        vertical-align: top;\n",
       "    }\n",
       "\n",
       "    .dataframe thead th {\n",
       "        text-align: right;\n",
       "    }\n",
       "</style>\n",
       "<table border=\"1\" class=\"dataframe\">\n",
       "  <thead>\n",
       "    <tr style=\"text-align: right;\">\n",
       "      <th></th>\n",
       "      <th>id</th>\n",
       "      <th>status</th>\n",
       "      <th>chemicalformula</th>\n",
       "      <th>job</th>\n",
       "      <th>subjob</th>\n",
       "      <th>projectpath</th>\n",
       "      <th>project</th>\n",
       "      <th>timestart</th>\n",
       "      <th>timestop</th>\n",
       "      <th>totalcputime</th>\n",
       "      <th>computer</th>\n",
       "      <th>hamilton</th>\n",
       "      <th>hamversion</th>\n",
       "      <th>parentid</th>\n",
       "      <th>masterid</th>\n",
       "    </tr>\n",
       "  </thead>\n",
       "  <tbody>\n",
       "    <tr>\n",
       "      <th>0</th>\n",
       "      <td>998</td>\n",
       "      <td>finished</td>\n",
       "      <td>Al500</td>\n",
       "      <td>lammps_mini</td>\n",
       "      <td>/lammps_mini</td>\n",
       "      <td>None</td>\n",
       "      <td>/mnt/c/Users/menon/Documents/winrepos/projects-pyiron/damask-branch/elastic_pipeline/</td>\n",
       "      <td>2023-09-14 10:35:39.177448</td>\n",
       "      <td>2023-09-14 10:35:39.978529</td>\n",
       "      <td>0.0</td>\n",
       "      <td>pyiron@cmleo26#1</td>\n",
       "      <td>Lammps</td>\n",
       "      <td>0.1</td>\n",
       "      <td>None</td>\n",
       "      <td>NaN</td>\n",
       "    </tr>\n",
       "    <tr>\n",
       "      <th>1</th>\n",
       "      <td>999</td>\n",
       "      <td>finished</td>\n",
       "      <td>Al500</td>\n",
       "      <td>master_al</td>\n",
       "      <td>/master_al</td>\n",
       "      <td>None</td>\n",
       "      <td>/mnt/c/Users/menon/Documents/winrepos/projects-pyiron/damask-branch/elastic_pipeline/</td>\n",
       "      <td>2023-09-14 10:35:46.361052</td>\n",
       "      <td>2023-09-14 10:35:52.143879</td>\n",
       "      <td>5.0</td>\n",
       "      <td>pyiron@cmleo26#1#4/4</td>\n",
       "      <td>SQSMaster</td>\n",
       "      <td>0.0.1</td>\n",
       "      <td>None</td>\n",
       "      <td>NaN</td>\n",
       "    </tr>\n",
       "    <tr>\n",
       "      <th>2</th>\n",
       "      <td>1000</td>\n",
       "      <td>finished</td>\n",
       "      <td>Al498Mg2</td>\n",
       "      <td>sqs_0_005</td>\n",
       "      <td>/sqs_0_005</td>\n",
       "      <td>None</td>\n",
       "      <td>/mnt/c/Users/menon/Documents/winrepos/projects-pyiron/damask-branch/elastic_pipeline/master_al_hdf5/</td>\n",
       "      <td>2023-09-14 10:35:46.835798</td>\n",
       "      <td>2023-09-14 10:35:47.898639</td>\n",
       "      <td>1.0</td>\n",
       "      <td>pyiron@cmleo26#1</td>\n",
       "      <td>SQSJob</td>\n",
       "      <td>0.1</td>\n",
       "      <td>None</td>\n",
       "      <td>999.0</td>\n",
       "    </tr>\n",
       "    <tr>\n",
       "      <th>3</th>\n",
       "      <td>1001</td>\n",
       "      <td>finished</td>\n",
       "      <td>Al495Mg5</td>\n",
       "      <td>sqs_0_01</td>\n",
       "      <td>/sqs_0_01</td>\n",
       "      <td>None</td>\n",
       "      <td>/mnt/c/Users/menon/Documents/winrepos/projects-pyiron/damask-branch/elastic_pipeline/master_al_hdf5/</td>\n",
       "      <td>2023-09-14 10:35:48.349007</td>\n",
       "      <td>2023-09-14 10:35:49.277427</td>\n",
       "      <td>0.0</td>\n",
       "      <td>pyiron@cmleo26#1</td>\n",
       "      <td>SQSJob</td>\n",
       "      <td>0.1</td>\n",
       "      <td>None</td>\n",
       "      <td>999.0</td>\n",
       "    </tr>\n",
       "    <tr>\n",
       "      <th>4</th>\n",
       "      <td>1002</td>\n",
       "      <td>finished</td>\n",
       "      <td>Al492Mg8</td>\n",
       "      <td>sqs_0_015</td>\n",
       "      <td>/sqs_0_015</td>\n",
       "      <td>None</td>\n",
       "      <td>/mnt/c/Users/menon/Documents/winrepos/projects-pyiron/damask-branch/elastic_pipeline/master_al_hdf5/</td>\n",
       "      <td>2023-09-14 10:35:49.753031</td>\n",
       "      <td>2023-09-14 10:35:50.679365</td>\n",
       "      <td>0.0</td>\n",
       "      <td>pyiron@cmleo26#1</td>\n",
       "      <td>SQSJob</td>\n",
       "      <td>0.1</td>\n",
       "      <td>None</td>\n",
       "      <td>999.0</td>\n",
       "    </tr>\n",
       "    <tr>\n",
       "      <th>5</th>\n",
       "      <td>1003</td>\n",
       "      <td>finished</td>\n",
       "      <td>Al490Mg10</td>\n",
       "      <td>sqs_0_02</td>\n",
       "      <td>/sqs_0_02</td>\n",
       "      <td>None</td>\n",
       "      <td>/mnt/c/Users/menon/Documents/winrepos/projects-pyiron/damask-branch/elastic_pipeline/master_al_hdf5/</td>\n",
       "      <td>2023-09-14 10:35:51.189119</td>\n",
       "      <td>2023-09-14 10:35:52.135666</td>\n",
       "      <td>0.0</td>\n",
       "      <td>pyiron@cmleo26#1</td>\n",
       "      <td>SQSJob</td>\n",
       "      <td>0.1</td>\n",
       "      <td>None</td>\n",
       "      <td>999.0</td>\n",
       "    </tr>\n",
       "    <tr>\n",
       "      <th>6</th>\n",
       "      <td>1004</td>\n",
       "      <td>finished</td>\n",
       "      <td>Al500</td>\n",
       "      <td>elastic_Al500</td>\n",
       "      <td>/elastic_Al500</td>\n",
       "      <td>None</td>\n",
       "      <td>/mnt/c/Users/menon/Documents/winrepos/projects-pyiron/damask-branch/elastic_pipeline/</td>\n",
       "      <td>2023-09-14 10:36:01.489157</td>\n",
       "      <td>2023-09-14 10:36:05.867539</td>\n",
       "      <td>4.0</td>\n",
       "      <td>pyiron@cmleo26#1#0</td>\n",
       "      <td>ElasticMatrixJob</td>\n",
       "      <td>0.0.1</td>\n",
       "      <td>None</td>\n",
       "      <td>NaN</td>\n",
       "    </tr>\n",
       "    <tr>\n",
       "      <th>7</th>\n",
       "      <td>1005</td>\n",
       "      <td>finished</td>\n",
       "      <td>Al500</td>\n",
       "      <td>elastic_Al500_lammps_tmp</td>\n",
       "      <td>/elastic_Al500_lammps_tmp</td>\n",
       "      <td>None</td>\n",
       "      <td>/mnt/c/Users/menon/Documents/winrepos/projects-pyiron/damask-branch/elastic_pipeline/elastic_Al500_hdf5/</td>\n",
       "      <td>2023-09-14 10:36:02.128196</td>\n",
       "      <td>2023-09-14 10:36:05.195506</td>\n",
       "      <td>3.0</td>\n",
       "      <td>pyiron@cmleo26#1</td>\n",
       "      <td>Lammps</td>\n",
       "      <td>0.1</td>\n",
       "      <td>None</td>\n",
       "      <td>1004.0</td>\n",
       "    </tr>\n",
       "    <tr>\n",
       "      <th>8</th>\n",
       "      <td>1006</td>\n",
       "      <td>finished</td>\n",
       "      <td>Al498Mg2</td>\n",
       "      <td>elastic_Al498Mg2</td>\n",
       "      <td>/elastic_Al498Mg2</td>\n",
       "      <td>None</td>\n",
       "      <td>/mnt/c/Users/menon/Documents/winrepos/projects-pyiron/damask-branch/elastic_pipeline/</td>\n",
       "      <td>2023-09-14 10:36:06.447478</td>\n",
       "      <td>2023-09-14 10:36:18.419063</td>\n",
       "      <td>11.0</td>\n",
       "      <td>pyiron@cmleo26#1#0</td>\n",
       "      <td>ElasticMatrixJob</td>\n",
       "      <td>0.0.1</td>\n",
       "      <td>None</td>\n",
       "      <td>NaN</td>\n",
       "    </tr>\n",
       "    <tr>\n",
       "      <th>9</th>\n",
       "      <td>1007</td>\n",
       "      <td>finished</td>\n",
       "      <td>Al498Mg2</td>\n",
       "      <td>elastic_Al498Mg2_lammps_tmp</td>\n",
       "      <td>/elastic_Al498Mg2_lammps_tmp</td>\n",
       "      <td>None</td>\n",
       "      <td>/mnt/c/Users/menon/Documents/winrepos/projects-pyiron/damask-branch/elastic_pipeline/elastic_Al498Mg2_hdf5/</td>\n",
       "      <td>2023-09-14 10:36:06.884287</td>\n",
       "      <td>2023-09-14 10:36:17.763605</td>\n",
       "      <td>10.0</td>\n",
       "      <td>pyiron@cmleo26#1</td>\n",
       "      <td>Lammps</td>\n",
       "      <td>0.1</td>\n",
       "      <td>None</td>\n",
       "      <td>1006.0</td>\n",
       "    </tr>\n",
       "    <tr>\n",
       "      <th>10</th>\n",
       "      <td>1008</td>\n",
       "      <td>finished</td>\n",
       "      <td>Al495Mg5</td>\n",
       "      <td>elastic_Al495Mg5</td>\n",
       "      <td>/elastic_Al495Mg5</td>\n",
       "      <td>None</td>\n",
       "      <td>/mnt/c/Users/menon/Documents/winrepos/projects-pyiron/damask-branch/elastic_pipeline/</td>\n",
       "      <td>2023-09-14 10:36:18.954139</td>\n",
       "      <td>2023-09-14 10:36:31.224850</td>\n",
       "      <td>12.0</td>\n",
       "      <td>pyiron@cmleo26#1#0</td>\n",
       "      <td>ElasticMatrixJob</td>\n",
       "      <td>0.0.1</td>\n",
       "      <td>None</td>\n",
       "      <td>NaN</td>\n",
       "    </tr>\n",
       "    <tr>\n",
       "      <th>11</th>\n",
       "      <td>1009</td>\n",
       "      <td>finished</td>\n",
       "      <td>Al495Mg5</td>\n",
       "      <td>elastic_Al495Mg5_lammps_tmp</td>\n",
       "      <td>/elastic_Al495Mg5_lammps_tmp</td>\n",
       "      <td>None</td>\n",
       "      <td>/mnt/c/Users/menon/Documents/winrepos/projects-pyiron/damask-branch/elastic_pipeline/elastic_Al495Mg5_hdf5/</td>\n",
       "      <td>2023-09-14 10:36:19.399041</td>\n",
       "      <td>2023-09-14 10:36:30.585244</td>\n",
       "      <td>11.0</td>\n",
       "      <td>pyiron@cmleo26#1</td>\n",
       "      <td>Lammps</td>\n",
       "      <td>0.1</td>\n",
       "      <td>None</td>\n",
       "      <td>1008.0</td>\n",
       "    </tr>\n",
       "    <tr>\n",
       "      <th>12</th>\n",
       "      <td>1010</td>\n",
       "      <td>finished</td>\n",
       "      <td>Al492Mg8</td>\n",
       "      <td>elastic_Al492Mg8</td>\n",
       "      <td>/elastic_Al492Mg8</td>\n",
       "      <td>None</td>\n",
       "      <td>/mnt/c/Users/menon/Documents/winrepos/projects-pyiron/damask-branch/elastic_pipeline/</td>\n",
       "      <td>2023-09-14 10:36:31.761811</td>\n",
       "      <td>2023-09-14 10:36:44.597386</td>\n",
       "      <td>12.0</td>\n",
       "      <td>pyiron@cmleo26#1#0</td>\n",
       "      <td>ElasticMatrixJob</td>\n",
       "      <td>0.0.1</td>\n",
       "      <td>None</td>\n",
       "      <td>NaN</td>\n",
       "    </tr>\n",
       "    <tr>\n",
       "      <th>13</th>\n",
       "      <td>1011</td>\n",
       "      <td>finished</td>\n",
       "      <td>Al492Mg8</td>\n",
       "      <td>elastic_Al492Mg8_lammps_tmp</td>\n",
       "      <td>/elastic_Al492Mg8_lammps_tmp</td>\n",
       "      <td>None</td>\n",
       "      <td>/mnt/c/Users/menon/Documents/winrepos/projects-pyiron/damask-branch/elastic_pipeline/elastic_Al492Mg8_hdf5/</td>\n",
       "      <td>2023-09-14 10:36:32.184375</td>\n",
       "      <td>2023-09-14 10:36:43.924261</td>\n",
       "      <td>11.0</td>\n",
       "      <td>pyiron@cmleo26#1</td>\n",
       "      <td>Lammps</td>\n",
       "      <td>0.1</td>\n",
       "      <td>None</td>\n",
       "      <td>1010.0</td>\n",
       "    </tr>\n",
       "    <tr>\n",
       "      <th>14</th>\n",
       "      <td>1012</td>\n",
       "      <td>finished</td>\n",
       "      <td>Al490Mg10</td>\n",
       "      <td>elastic_Al490Mg10</td>\n",
       "      <td>/elastic_Al490Mg10</td>\n",
       "      <td>None</td>\n",
       "      <td>/mnt/c/Users/menon/Documents/winrepos/projects-pyiron/damask-branch/elastic_pipeline/</td>\n",
       "      <td>2023-09-14 10:36:45.123242</td>\n",
       "      <td>2023-09-14 10:36:57.799391</td>\n",
       "      <td>12.0</td>\n",
       "      <td>pyiron@cmleo26#1#0</td>\n",
       "      <td>ElasticMatrixJob</td>\n",
       "      <td>0.0.1</td>\n",
       "      <td>None</td>\n",
       "      <td>NaN</td>\n",
       "    </tr>\n",
       "    <tr>\n",
       "      <th>15</th>\n",
       "      <td>1013</td>\n",
       "      <td>finished</td>\n",
       "      <td>Al490Mg10</td>\n",
       "      <td>elastic_Al490Mg10_lammps_tmp</td>\n",
       "      <td>/elastic_Al490Mg10_lammps_tmp</td>\n",
       "      <td>None</td>\n",
       "      <td>/mnt/c/Users/menon/Documents/winrepos/projects-pyiron/damask-branch/elastic_pipeline/elastic_Al490Mg10_hdf5/</td>\n",
       "      <td>2023-09-14 10:36:45.546668</td>\n",
       "      <td>2023-09-14 10:36:57.169557</td>\n",
       "      <td>11.0</td>\n",
       "      <td>pyiron@cmleo26#1</td>\n",
       "      <td>Lammps</td>\n",
       "      <td>0.1</td>\n",
       "      <td>None</td>\n",
       "      <td>1012.0</td>\n",
       "    </tr>\n",
       "  </tbody>\n",
       "</table>\n",
       "</div>"
      ],
      "text/plain": [
       "      id    status chemicalformula                           job  \\\n",
       "0    998  finished           Al500                   lammps_mini   \n",
       "1    999  finished           Al500                     master_al   \n",
       "2   1000  finished        Al498Mg2                     sqs_0_005   \n",
       "3   1001  finished        Al495Mg5                      sqs_0_01   \n",
       "4   1002  finished        Al492Mg8                     sqs_0_015   \n",
       "5   1003  finished       Al490Mg10                      sqs_0_02   \n",
       "6   1004  finished           Al500                 elastic_Al500   \n",
       "7   1005  finished           Al500      elastic_Al500_lammps_tmp   \n",
       "8   1006  finished        Al498Mg2              elastic_Al498Mg2   \n",
       "9   1007  finished        Al498Mg2   elastic_Al498Mg2_lammps_tmp   \n",
       "10  1008  finished        Al495Mg5              elastic_Al495Mg5   \n",
       "11  1009  finished        Al495Mg5   elastic_Al495Mg5_lammps_tmp   \n",
       "12  1010  finished        Al492Mg8              elastic_Al492Mg8   \n",
       "13  1011  finished        Al492Mg8   elastic_Al492Mg8_lammps_tmp   \n",
       "14  1012  finished       Al490Mg10             elastic_Al490Mg10   \n",
       "15  1013  finished       Al490Mg10  elastic_Al490Mg10_lammps_tmp   \n",
       "\n",
       "                           subjob projectpath  \\\n",
       "0                    /lammps_mini        None   \n",
       "1                      /master_al        None   \n",
       "2                      /sqs_0_005        None   \n",
       "3                       /sqs_0_01        None   \n",
       "4                      /sqs_0_015        None   \n",
       "5                       /sqs_0_02        None   \n",
       "6                  /elastic_Al500        None   \n",
       "7       /elastic_Al500_lammps_tmp        None   \n",
       "8               /elastic_Al498Mg2        None   \n",
       "9    /elastic_Al498Mg2_lammps_tmp        None   \n",
       "10              /elastic_Al495Mg5        None   \n",
       "11   /elastic_Al495Mg5_lammps_tmp        None   \n",
       "12              /elastic_Al492Mg8        None   \n",
       "13   /elastic_Al492Mg8_lammps_tmp        None   \n",
       "14             /elastic_Al490Mg10        None   \n",
       "15  /elastic_Al490Mg10_lammps_tmp        None   \n",
       "\n",
       "                                                                                                         project  \\\n",
       "0                          /mnt/c/Users/menon/Documents/winrepos/projects-pyiron/damask-branch/elastic_pipeline/   \n",
       "1                          /mnt/c/Users/menon/Documents/winrepos/projects-pyiron/damask-branch/elastic_pipeline/   \n",
       "2           /mnt/c/Users/menon/Documents/winrepos/projects-pyiron/damask-branch/elastic_pipeline/master_al_hdf5/   \n",
       "3           /mnt/c/Users/menon/Documents/winrepos/projects-pyiron/damask-branch/elastic_pipeline/master_al_hdf5/   \n",
       "4           /mnt/c/Users/menon/Documents/winrepos/projects-pyiron/damask-branch/elastic_pipeline/master_al_hdf5/   \n",
       "5           /mnt/c/Users/menon/Documents/winrepos/projects-pyiron/damask-branch/elastic_pipeline/master_al_hdf5/   \n",
       "6                          /mnt/c/Users/menon/Documents/winrepos/projects-pyiron/damask-branch/elastic_pipeline/   \n",
       "7       /mnt/c/Users/menon/Documents/winrepos/projects-pyiron/damask-branch/elastic_pipeline/elastic_Al500_hdf5/   \n",
       "8                          /mnt/c/Users/menon/Documents/winrepos/projects-pyiron/damask-branch/elastic_pipeline/   \n",
       "9    /mnt/c/Users/menon/Documents/winrepos/projects-pyiron/damask-branch/elastic_pipeline/elastic_Al498Mg2_hdf5/   \n",
       "10                         /mnt/c/Users/menon/Documents/winrepos/projects-pyiron/damask-branch/elastic_pipeline/   \n",
       "11   /mnt/c/Users/menon/Documents/winrepos/projects-pyiron/damask-branch/elastic_pipeline/elastic_Al495Mg5_hdf5/   \n",
       "12                         /mnt/c/Users/menon/Documents/winrepos/projects-pyiron/damask-branch/elastic_pipeline/   \n",
       "13   /mnt/c/Users/menon/Documents/winrepos/projects-pyiron/damask-branch/elastic_pipeline/elastic_Al492Mg8_hdf5/   \n",
       "14                         /mnt/c/Users/menon/Documents/winrepos/projects-pyiron/damask-branch/elastic_pipeline/   \n",
       "15  /mnt/c/Users/menon/Documents/winrepos/projects-pyiron/damask-branch/elastic_pipeline/elastic_Al490Mg10_hdf5/   \n",
       "\n",
       "                    timestart                   timestop  totalcputime  \\\n",
       "0  2023-09-14 10:35:39.177448 2023-09-14 10:35:39.978529           0.0   \n",
       "1  2023-09-14 10:35:46.361052 2023-09-14 10:35:52.143879           5.0   \n",
       "2  2023-09-14 10:35:46.835798 2023-09-14 10:35:47.898639           1.0   \n",
       "3  2023-09-14 10:35:48.349007 2023-09-14 10:35:49.277427           0.0   \n",
       "4  2023-09-14 10:35:49.753031 2023-09-14 10:35:50.679365           0.0   \n",
       "5  2023-09-14 10:35:51.189119 2023-09-14 10:35:52.135666           0.0   \n",
       "6  2023-09-14 10:36:01.489157 2023-09-14 10:36:05.867539           4.0   \n",
       "7  2023-09-14 10:36:02.128196 2023-09-14 10:36:05.195506           3.0   \n",
       "8  2023-09-14 10:36:06.447478 2023-09-14 10:36:18.419063          11.0   \n",
       "9  2023-09-14 10:36:06.884287 2023-09-14 10:36:17.763605          10.0   \n",
       "10 2023-09-14 10:36:18.954139 2023-09-14 10:36:31.224850          12.0   \n",
       "11 2023-09-14 10:36:19.399041 2023-09-14 10:36:30.585244          11.0   \n",
       "12 2023-09-14 10:36:31.761811 2023-09-14 10:36:44.597386          12.0   \n",
       "13 2023-09-14 10:36:32.184375 2023-09-14 10:36:43.924261          11.0   \n",
       "14 2023-09-14 10:36:45.123242 2023-09-14 10:36:57.799391          12.0   \n",
       "15 2023-09-14 10:36:45.546668 2023-09-14 10:36:57.169557          11.0   \n",
       "\n",
       "                computer          hamilton hamversion parentid  masterid  \n",
       "0       pyiron@cmleo26#1            Lammps        0.1     None       NaN  \n",
       "1   pyiron@cmleo26#1#4/4         SQSMaster      0.0.1     None       NaN  \n",
       "2       pyiron@cmleo26#1            SQSJob        0.1     None     999.0  \n",
       "3       pyiron@cmleo26#1            SQSJob        0.1     None     999.0  \n",
       "4       pyiron@cmleo26#1            SQSJob        0.1     None     999.0  \n",
       "5       pyiron@cmleo26#1            SQSJob        0.1     None     999.0  \n",
       "6     pyiron@cmleo26#1#0  ElasticMatrixJob      0.0.1     None       NaN  \n",
       "7       pyiron@cmleo26#1            Lammps        0.1     None    1004.0  \n",
       "8     pyiron@cmleo26#1#0  ElasticMatrixJob      0.0.1     None       NaN  \n",
       "9       pyiron@cmleo26#1            Lammps        0.1     None    1006.0  \n",
       "10    pyiron@cmleo26#1#0  ElasticMatrixJob      0.0.1     None       NaN  \n",
       "11      pyiron@cmleo26#1            Lammps        0.1     None    1008.0  \n",
       "12    pyiron@cmleo26#1#0  ElasticMatrixJob      0.0.1     None       NaN  \n",
       "13      pyiron@cmleo26#1            Lammps        0.1     None    1010.0  \n",
       "14    pyiron@cmleo26#1#0  ElasticMatrixJob      0.0.1     None       NaN  \n",
       "15      pyiron@cmleo26#1            Lammps        0.1     None    1012.0  "
      ]
     },
     "execution_count": 9,
     "metadata": {},
     "output_type": "execute_result"
    }
   ],
   "source": [
    "pr.job_table()"
   ]
  },
  {
   "cell_type": "code",
   "execution_count": 10,
   "metadata": {},
   "outputs": [],
   "source": [
    "def filter_function(job): \n",
    "    return \"elastic_\" in job.job_name and \"lammps_tmp\" not in job.job_name"
   ]
  },
  {
   "cell_type": "code",
   "execution_count": 11,
   "metadata": {},
   "outputs": [],
   "source": [
    "def get_c11(job):\n",
    "    return job[\"output/elasticmatrix\"][\"C\"][0,0]\n",
    "\n",
    "def get_c12(job):\n",
    "    return job[\"output/elasticmatrix\"][\"C\"][0,1]\n",
    "\n",
    "def get_c44(job):\n",
    "    return job[\"output/elasticmatrix\"][\"C\"][3,3]"
   ]
  },
  {
   "cell_type": "code",
   "execution_count": 12,
   "metadata": {},
   "outputs": [],
   "source": [
    "table = pr.create_table()"
   ]
  },
  {
   "cell_type": "code",
   "execution_count": 13,
   "metadata": {},
   "outputs": [],
   "source": [
    "table.filter_function = filter_function\n",
    "table.add[\"C11\"] = get_c11\n",
    "table.add[\"C12\"] = get_c12\n",
    "table.add[\"C44\"] = get_c44"
   ]
  },
  {
   "cell_type": "code",
   "execution_count": 14,
   "metadata": {},
   "outputs": [
    {
     "name": "stdout",
     "output_type": "stream",
     "text": [
      "The job table was saved and received the ID: 1014\n"
     ]
    },
    {
     "data": {
      "application/vnd.jupyter.widget-view+json": {
       "model_id": "4aacd04024da4c4f9af24caad93d4b0f",
       "version_major": 2,
       "version_minor": 0
      },
      "text/plain": [
       "Loading and filtering jobs:   0%|          | 0/17 [00:00<?, ?it/s]"
      ]
     },
     "metadata": {},
     "output_type": "display_data"
    },
    {
     "data": {
      "application/vnd.jupyter.widget-view+json": {
       "model_id": "4538473a214b42daaa32b6e051fc7d4d",
       "version_major": 2,
       "version_minor": 0
      },
      "text/plain": [
       "Processing jobs:   0%|          | 0/5 [00:00<?, ?it/s]"
      ]
     },
     "metadata": {},
     "output_type": "display_data"
    }
   ],
   "source": [
    "table.run()"
   ]
  },
  {
   "cell_type": "code",
   "execution_count": 15,
   "metadata": {},
   "outputs": [
    {
     "data": {
      "text/html": [
       "<div>\n",
       "<style scoped>\n",
       "    .dataframe tbody tr th:only-of-type {\n",
       "        vertical-align: middle;\n",
       "    }\n",
       "\n",
       "    .dataframe tbody tr th {\n",
       "        vertical-align: top;\n",
       "    }\n",
       "\n",
       "    .dataframe thead th {\n",
       "        text-align: right;\n",
       "    }\n",
       "</style>\n",
       "<table border=\"1\" class=\"dataframe\">\n",
       "  <thead>\n",
       "    <tr style=\"text-align: right;\">\n",
       "      <th></th>\n",
       "      <th>job_id</th>\n",
       "      <th>C11</th>\n",
       "      <th>C12</th>\n",
       "      <th>C44</th>\n",
       "    </tr>\n",
       "  </thead>\n",
       "  <tbody>\n",
       "    <tr>\n",
       "      <th>0</th>\n",
       "      <td>1004</td>\n",
       "      <td>110.193270</td>\n",
       "      <td>61.752630</td>\n",
       "      <td>32.746691</td>\n",
       "    </tr>\n",
       "    <tr>\n",
       "      <th>1</th>\n",
       "      <td>1006</td>\n",
       "      <td>111.511915</td>\n",
       "      <td>62.815451</td>\n",
       "      <td>33.247117</td>\n",
       "    </tr>\n",
       "    <tr>\n",
       "      <th>2</th>\n",
       "      <td>1008</td>\n",
       "      <td>113.283960</td>\n",
       "      <td>64.624383</td>\n",
       "      <td>34.114717</td>\n",
       "    </tr>\n",
       "    <tr>\n",
       "      <th>3</th>\n",
       "      <td>1010</td>\n",
       "      <td>114.783188</td>\n",
       "      <td>66.346758</td>\n",
       "      <td>34.948253</td>\n",
       "    </tr>\n",
       "    <tr>\n",
       "      <th>4</th>\n",
       "      <td>1012</td>\n",
       "      <td>116.176548</td>\n",
       "      <td>67.304666</td>\n",
       "      <td>35.555918</td>\n",
       "    </tr>\n",
       "  </tbody>\n",
       "</table>\n",
       "</div>"
      ],
      "text/plain": [
       "   job_id         C11        C12        C44\n",
       "0    1004  110.193270  61.752630  32.746691\n",
       "1    1006  111.511915  62.815451  33.247117\n",
       "2    1008  113.283960  64.624383  34.114717\n",
       "3    1010  114.783188  66.346758  34.948253\n",
       "4    1012  116.176548  67.304666  35.555918"
      ]
     },
     "execution_count": 15,
     "metadata": {},
     "output_type": "execute_result"
    }
   ],
   "source": [
    "df_data = table.get_dataframe()\n",
    "df_data"
   ]
  },
  {
   "cell_type": "markdown",
   "metadata": {},
   "source": [
    "## Analysis\n",
    "\n",
    "Finally, let's use numpy to make a polynomial fit of our elastic constants to alloying concentration and visualize the results.\n",
    "\n",
    "Note: pure-Al data lines up very nicely with the pure Al elastic constants [reported on the NIST website for this potential](https://www.ctcms.nist.gov/potentials/entry/2009--Mendelev-M-I-Asta-M-Rahman-M-J-Hoyt-J-J--Al-Mg/2009--Mendelev-M-I--Al-Mg--LAMMPS--ipr1.html). I don't have a good sense for exactly what <2% Mg should be doing, but at least there are no sharp changes. Sanity check passed."
   ]
  },
  {
   "cell_type": "code",
   "execution_count": 16,
   "metadata": {},
   "outputs": [],
   "source": [
    "concentrations = np.array(concentration_lst)"
   ]
  },
  {
   "cell_type": "code",
   "execution_count": 17,
   "metadata": {},
   "outputs": [],
   "source": [
    "C11_data = df_data[\"C11\"].values\n",
    "C12_data = df_data[\"C12\"].values\n",
    "C44_data = df_data[\"C44\"].values"
   ]
  },
  {
   "cell_type": "code",
   "execution_count": 18,
   "metadata": {
    "ExecuteTime": {
     "end_time": "2020-10-05T08:18:13.444764Z",
     "start_time": "2020-10-05T08:18:13.425319Z"
    }
   },
   "outputs": [],
   "source": [
    "fit_degree = 2\n",
    "C11_fit = np.polyfit(concentrations, C11_data, deg=fit_degree)\n",
    "C12_fit = np.polyfit(concentrations, C12_data, deg=fit_degree)\n",
    "C44_fit = np.polyfit(concentrations, C44_data, deg=fit_degree)\n",
    "c = np.linspace(concentrations.min(), concentrations.max(), 100)  # 'Continuous' concentration"
   ]
  },
  {
   "cell_type": "code",
   "execution_count": 19,
   "metadata": {
    "ExecuteTime": {
     "end_time": "2020-10-05T08:18:13.478125Z",
     "start_time": "2020-10-05T08:18:13.465417Z"
    }
   },
   "outputs": [
    {
     "name": "stdout",
     "output_type": "stream",
     "text": [
      "[-352.53950763  311.80736812  110.12458344]\n",
      "[-846.80811794  309.64375303   61.59936123]\n",
      "[515.4655247  136.0824793   32.68439458]\n"
     ]
    }
   ],
   "source": [
    "# p(x) = p[0] * x**deg + ... + p[deg]\n",
    "print(C11_fit)\n",
    "print(C12_fit)\n",
    "print(C44_fit)"
   ]
  },
  {
   "cell_type": "code",
   "execution_count": 20,
   "metadata": {
    "ExecuteTime": {
     "end_time": "2020-10-05T08:18:14.491958Z",
     "start_time": "2020-10-05T08:18:13.507439Z"
    }
   },
   "outputs": [
    {
     "data": {
      "image/png": "[encoded data removed]",
      "text/plain": [
       "<Figure size 640x480 with 1 Axes>"
      ]
     },
     "metadata": {},
     "output_type": "display_data"
    }
   ],
   "source": [
    "for color, data, fit, label in zip(\n",
    "    sns.color_palette(n_colors=3), \n",
    "    [C11_data, C12_data, C44_data], \n",
    "    [C11_fit, C12_fit, C44_fit],\n",
    "    ['C11', 'C12', 'C44']\n",
    "):\n",
    "    plt.scatter(concentrations, data, color=color)\n",
    "    plt.plot(c, np.polyval(fit, c), color=color, label=label)\n",
    "plt.xlabel('Mg concentration')\n",
    "plt.ylabel('Elastic constant (GPa)')\n",
    "plt.legend()\n",
    "plt.show()"
   ]
  },
  {
   "cell_type": "markdown",
   "metadata": {},
   "source": [
    "# DAMASK Simulations\n",
    "The steps include, defining:\n",
    "- geometries\n",
    "- grains\n",
    "- loading\n",
    "- material properties based on the atomistically-evaluated \n",
    "- perfoming simulations"
   ]
  },
  {
   "cell_type": "code",
   "execution_count": 21,
   "metadata": {},
   "outputs": [],
   "source": [
    "from damask import Rotation"
   ]
  },
  {
   "cell_type": "code",
   "execution_count": 22,
   "metadata": {},
   "outputs": [
    {
     "data": {
      "text/plain": [
       "array([0.  , 0.01, 0.02])"
      ]
     },
     "execution_count": 22,
     "metadata": {},
     "output_type": "execute_result"
    }
   ],
   "source": [
    "concentrations[::2]"
   ]
  },
  {
   "cell_type": "code",
   "execution_count": 23,
   "metadata": {
    "scrolled": true
   },
   "outputs": [
    {
     "name": "stdout",
     "output_type": "stream",
     "text": [
      "The job damask_Mg_0 was saved and received the ID: 1015\n"
     ]
    },
    {
     "name": "stderr",
     "output_type": "stream",
     "text": [
      " ██████████████████████████████████████████████████ 100% ETA 0:00:00\n",
      " ██████████████████████████████████████████████████ 100% ETA 0:00:00\n",
      " ██████████████████████████████████████████████████ 100% ETA 0:00:00\n",
      " ██████████████████████████████████████████████████ 100% ETA 0:00:00\n",
      " ██████████████████████████████████████████████████ 100% ETA 0:00:00\n",
      " ██████████████████████████████████████████████████ 100% ETA 0:00:00\n",
      " ██████████████████████████████████████████████████ 100% ETA 0:00:00\n",
      " ██████████████████████████████████████████████████ 100% ETA 0:00:00\n",
      " ██████████████████████████████████████████████████ 100% ETA 0:00:00\n",
      " ██████████████████████████████████████████████████ 100% ETA 0:00:00\n",
      " ██████████████████████████████████████████████████ 100% ETA 0:00:00\n",
      " ██████████████████████████████████████████████████ 100% ETA 0:00:00\n"
     ]
    },
    {
     "name": "stdout",
     "output_type": "stream",
     "text": [
      "The job damask_Mg_1 was saved and received the ID: 1016\n"
     ]
    },
    {
     "name": "stderr",
     "output_type": "stream",
     "text": [
      " ██████████████████████████████████████████████████ 100% ETA 0:00:00\n",
      " ██████████████████████████████████████████████████ 100% ETA 0:00:00\n",
      " ██████████████████████████████████████████████████ 100% ETA 0:00:00\n",
      " ██████████████████████████████████████████████████ 100% ETA 0:00:00\n",
      " ██████████████████████████████████████████████████ 100% ETA 0:00:00\n",
      " ██████████████████████████████████████████████████ 100% ETA 0:00:00\n",
      " ██████████████████████████████████████████████████ 100% ETA 0:00:00\n",
      " ██████████████████████████████████████████████████ 100% ETA 0:00:00\n",
      " ██████████████████████████████████████████████████ 100% ETA 0:00:00\n",
      " ██████████████████████████████████████████████████ 100% ETA 0:00:00\n",
      " ██████████████████████████████████████████████████ 100% ETA 0:00:00\n",
      " ██████████████████████████████████████████████████ 100% ETA 0:00:00\n"
     ]
    },
    {
     "name": "stdout",
     "output_type": "stream",
     "text": [
      "The job damask_Mg_2 was saved and received the ID: 1017\n"
     ]
    },
    {
     "name": "stderr",
     "output_type": "stream",
     "text": [
      " ██████████████████████████████████████████████████ 100% ETA 0:00:00\n",
      " ██████████████████████████████████████████████████ 100% ETA 0:00:00\n",
      " ██████████████████████████████████████████████████ 100% ETA 0:00:00\n",
      " ██████████████████████████████████████████████████ 100% ETA 0:00:00\n",
      " ██████████████████████████████████████████████████ 100% ETA 0:00:00\n",
      " ██████████████████████████████████████████████████ 100% ETA 0:00:00\n",
      " ██████████████████████████████████████████████████ 100% ETA 0:00:00\n",
      " ██████████████████████████████████████████████████ 100% ETA 0:00:00\n",
      " ██████████████████████████████████████████████████ 100% ETA 0:00:00\n",
      " ██████████████████████████████████████████████████ 100% ETA 0:00:00\n",
      " ██████████████████████████████████████████████████ 100% ETA 0:00:00\n",
      " ██████████████████████████████████████████████████ 100% ETA 0:00:00\n"
     ]
    }
   ],
   "source": [
    "job_lst = []\n",
    "for i,c in enumerate(concentrations[::2]):\n",
    "    job = pr.create.job.DAMASK(\"damask_\" + 'Mg_{}'.format(int(c*100)), delete_aborted_job=True, delete_existing_job=True)\n",
    "    elasticity = pr.continuum.damask.Elasticity(type= 'Hooke', C_11= float(np.polyval(C11_fit, c)),\n",
    "                                                C_12= float(np.polyval(C12_fit, c)), \n",
    "                                                C_44=float(np.polyval(C44_fit, c)))\n",
    "    phase = pr.continuum.damask.Phase(composition='Aluminum', lattice= 'cF',\n",
    "                             output_list=['F', 'P', 'F_e'],\n",
    "                             elasticity=elasticity,plasticity=None)\n",
    "    rotation = pr.continuum.damask.Rotation(Rotation.from_random, 1)\n",
    "    \n",
    "    homogenization = pr.continuum.damask.Homogenization(method='SX', \n",
    "                                                         parameters={'N_constituents': 1,\n",
    "                                                                     \"mechanical\": {\"type\": \"pass\"}})\n",
    "    \n",
    "    # now you can define your material.yaml configuration\n",
    "    material = pr.continuum.damask.Material([rotation],['Aluminum'], phase, homogenization)\n",
    "    \n",
    "    # now you can save your material to your job\n",
    "    job.material = material\n",
    "\n",
    "    grid = pr.continuum.damask.Grid.via_voronoi_tessellation(box_size=1., grid_dim=16, num_grains=1)\n",
    "    \n",
    "    # save the geometry information to your job\n",
    "    job.grid = grid\n",
    "\n",
    "    load_step =[{'mech_bc_dict':{'dot_F':[1e-3,0,0, 0,'x',0,  0,0,'x'],\n",
    "                                'P':['x','x','x', 'x',0,'x',  'x','x',0]},\n",
    "                'discretization':{'t': 50.,'N': 50},\n",
    "                'additional': {'f_out': 5}\n",
    "               }]\n",
    "    solver = job.list_solvers()[0] # choose the mechanis solver\n",
    "    job.loading = pr.continuum.damask.Loading(solver=solver, load_steps=load_step)\n",
    "    job.run()\n",
    "    job_lst.append(job)"
   ]
  },
  {
   "cell_type": "code",
   "execution_count": 24,
   "metadata": {},
   "outputs": [
    {
     "data": {
      "text/plain": [
       "Text(0.5, 1.0, 'Stress-Strain')"
      ]
     },
     "execution_count": 24,
     "metadata": {},
     "output_type": "execute_result"
    },
    {
     "data": {
      "image/png": "[encoded data removed]",
      "text/plain": [
       "<Figure size 640x480 with 1 Axes>"
      ]
     },
     "metadata": {},
     "output_type": "display_data"
    }
   ],
   "source": [
    "colors = ['r','g','b']\n",
    "#for color, strain, stress, c in zip(colors, strains, stresses, concentrations):\n",
    "plt.plot(job_lst[0].output.strain_von_Mises, job_lst[0].output.stress_von_Mises, 'r', linewidth=2, label = 'Mg={}%'.format(0*100))\n",
    "plt.plot(job_lst[1].output.strain_von_Mises, job_lst[1].output.stress_von_Mises, 'b', linewidth=2, label = 'Mg={}%'.format(0.01*100))\n",
    "plt.plot(job_lst[2].output.strain_von_Mises, job_lst[2].output.stress_von_Mises, 'g', linewidth=2, label = 'Mg={}%'.format(0.02*100))\n",
    "#plt.ylim(90, 95)\n",
    "plt.grid(True)\n",
    "plt.xlabel('$Strain$')\n",
    "plt.ylabel('Stress- MPa')\n",
    "plt.legend( loc='lower right')\n",
    "plt.title(\"Stress-Strain\")"
   ]
  }
 ],
 "metadata": {
  "kernelspec": {
   "display_name": "Python 3 (ipykernel)",
   "language": "python",
   "name": "python3"
  },
  "language_info": {
   "codemirror_mode": {
    "name": "ipython",
    "version": 3
   },
   "file_extension": ".py",
   "mimetype": "text/x-python",
   "name": "python",
   "nbconvert_exporter": "python",
   "pygments_lexer": "ipython3",
   "version": "3.11.5"
  },
  "toc": {
   "base_numbering": 1,
   "nav_menu": {},
   "number_sections": true,
   "sideBar": true,
   "skip_h1_title": false,
   "title_cell": "Table of Contents",
   "title_sidebar": "Contents",
   "toc_cell": false,
   "toc_position": {},
   "toc_section_display": true,
   "toc_window_display": false
  }
 },
 "nbformat": 4,
 "nbformat_minor": 4
}
